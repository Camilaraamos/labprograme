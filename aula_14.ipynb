{
  "nbformat": 4,
  "nbformat_minor": 0,
  "metadata": {
    "colab": {
      "provenance": [],
      "authorship_tag": "ABX9TyPLERW5xbMKDeEgRCKY4sbF",
      "include_colab_link": true
    },
    "kernelspec": {
      "name": "python3",
      "display_name": "Python 3"
    },
    "language_info": {
      "name": "python"
    }
  },
  "cells": [
    {
      "cell_type": "markdown",
      "metadata": {
        "id": "view-in-github",
        "colab_type": "text"
      },
      "source": [
        "<a href=\"https://colab.research.google.com/github/alysonbz/lab_prog_si/blob/camila_araujo/aula_14.ipynb\" target=\"_parent\"><img src=\"https://colab.research.google.com/assets/colab-badge.svg\" alt=\"Open In Colab\"/></a>"
      ]
    },
    {
      "cell_type": "code",
      "execution_count": 2,
      "metadata": {
        "colab": {
          "base_uri": "https://localhost:8080/"
        },
        "id": "t-axLguHj2yJ",
        "outputId": "254f870c-74d7-4687-8107-9ea15c3ae49f"
      },
      "outputs": [
        {
          "output_type": "execute_result",
          "data": {
            "text/plain": [
              "array([21.85171573, 20.97505669, 21.75028214, 24.7473475 , 21.44127836])"
            ]
          },
          "metadata": {},
          "execution_count": 2
        }
      ],
      "source": [
        "import numpy as np\n",
        "np_height = np.array([1.73, 1.68, 1.71, 1.89, 1.79])\n",
        "np_weight = np.array([65.4, 59.2, 63.6, 88.4, 68.7])\n",
        "bmi = np_weight / np_height ** 2\n",
        "bmi"
      ]
    },
    {
      "cell_type": "code",
      "source": [
        "bmi > 23"
      ],
      "metadata": {
        "colab": {
          "base_uri": "https://localhost:8080/"
        },
        "id": "a7sPO0hpksHe",
        "outputId": "d785b728-46dd-413b-a2c7-d6f205b22052"
      },
      "execution_count": 3,
      "outputs": [
        {
          "output_type": "execute_result",
          "data": {
            "text/plain": [
              "array([False, False, False,  True, False])"
            ]
          },
          "metadata": {},
          "execution_count": 3
        }
      ]
    },
    {
      "cell_type": "code",
      "source": [
        "bmi[bmi > 23]"
      ],
      "metadata": {
        "colab": {
          "base_uri": "https://localhost:8080/"
        },
        "id": "hMhO_-pvkuiZ",
        "outputId": "b34e4c5a-055c-4579-d54c-e876304fab0b"
      },
      "execution_count": 4,
      "outputs": [
        {
          "output_type": "execute_result",
          "data": {
            "text/plain": [
              "array([24.7473475])"
            ]
          },
          "metadata": {},
          "execution_count": 4
        }
      ]
    },
    {
      "cell_type": "code",
      "source": [
        "peso = 90\n",
        "altura = 1.65\n",
        "\n",
        "bmi = peso / (altura ** 2)\n",
        "\n",
        "if bmi > 30:\n",
        "    print(\"Você está com sobrepeso\")\n",
        "else:\n",
        "    print(\"Você está com peso adequado\")\n"
      ],
      "metadata": {
        "colab": {
          "base_uri": "https://localhost:8080/"
        },
        "id": "AgMUNOx3kvHR",
        "outputId": "69a9ccb2-ebc3-4355-d8f5-ca8054e1a0da"
      },
      "execution_count": 5,
      "outputs": [
        {
          "output_type": "stream",
          "name": "stdout",
          "text": [
            "Você está com sobrepeso\n"
          ]
        }
      ]
    },
    {
      "cell_type": "code",
      "source": [
        "import numpy as np\n",
        "\n",
        "bmi = np.array([22.5, 27.8, 31.2, 18.4, 24.0])\n",
        "\n",
        "resposta = bmi < 23\n",
        "\n",
        "print(resposta)\n"
      ],
      "metadata": {
        "colab": {
          "base_uri": "https://localhost:8080/"
        },
        "id": "eN8JS4NzlScy",
        "outputId": "cf100bf6-bb11-42b3-88b9-26aaf5a16af0"
      },
      "execution_count": 6,
      "outputs": [
        {
          "output_type": "stream",
          "name": "stdout",
          "text": [
            "[ True False False  True False]\n"
          ]
        }
      ]
    },
    {
      "cell_type": "markdown",
      "source": [
        "pratique 143"
      ],
      "metadata": {
        "id": "IphQbbuGlyAi"
      }
    },
    {
      "cell_type": "code",
      "source": [
        "print(True == False)\n",
        "print(-5 * 15 == 75)\n",
        "print(\"pyscript\" == \"PyScript\")\n",
        "print(True == 1)\n"
      ],
      "metadata": {
        "colab": {
          "base_uri": "https://localhost:8080/"
        },
        "id": "PWopGuQzlwg7",
        "outputId": "8b095543-f127-4d06-b239-aacb05a06b6c"
      },
      "execution_count": 7,
      "outputs": [
        {
          "output_type": "stream",
          "name": "stdout",
          "text": [
            "False\n",
            "False\n",
            "False\n",
            "True\n"
          ]
        }
      ]
    },
    {
      "cell_type": "markdown",
      "source": [
        "pratique 144"
      ],
      "metadata": {
        "id": "6O62I5DCl3vp"
      }
    },
    {
      "cell_type": "code",
      "source": [
        "import numpy as np\n",
        "my_house = np.array([18.0, 20.0, 10.75, 9.50])\n",
        "your_house = np.array([14.0, 24.0, 14.25, 9.0])\n",
        "\n",
        "print(my_house > 18)\n",
        "\n",
        "print(my_house < your_house)\n"
      ],
      "metadata": {
        "colab": {
          "base_uri": "https://localhost:8080/"
        },
        "id": "yFwU1bbll5uq",
        "outputId": "5e192590-c5d9-4236-ca6d-51046f1f8444"
      },
      "execution_count": 9,
      "outputs": [
        {
          "output_type": "stream",
          "name": "stdout",
          "text": [
            "[False  True False False]\n",
            "[False  True  True False]\n"
          ]
        }
      ]
    },
    {
      "cell_type": "markdown",
      "source": [
        "pratique 150\n"
      ],
      "metadata": {
        "id": "lsO9aBc1mNjg"
      }
    },
    {
      "cell_type": "code",
      "source": [
        "my_kitchen = 18.0\n",
        "your_kitchen = 14.0\n",
        "\n",
        "print(my_kitchen > 10 and my_kitchen < 18)\n",
        "print(my_kitchen < 14 and my_kitchen < 17)\n",
        "print(2 * my_kitchen < 3 * your_kitchen)\n"
      ],
      "metadata": {
        "colab": {
          "base_uri": "https://localhost:8080/"
        },
        "id": "svcSZVsemwz3",
        "outputId": "2e04281d-1c98-44d1-9faf-72d80d97f6ec"
      },
      "execution_count": 11,
      "outputs": [
        {
          "output_type": "stream",
          "name": "stdout",
          "text": [
            "False\n",
            "False\n",
            "True\n"
          ]
        }
      ]
    },
    {
      "cell_type": "markdown",
      "source": [
        "pratique 151"
      ],
      "metadata": {
        "id": "dlRqOLYmnMH9"
      }
    },
    {
      "cell_type": "code",
      "source": [
        "import numpy as np\n",
        "\n",
        "my_house = np.array([18.0, 20.0, 10.75, 9.50])\n",
        "your_house = np.array([14.0, 24.0, 14.25, 9.0])\n",
        "\n",
        "print((my_house > 18.5) | (my_house < 10))\n",
        "\n",
        "print((my_house < 11) & (your_house < 11))\n",
        "\n",
        "\n"
      ],
      "metadata": {
        "colab": {
          "base_uri": "https://localhost:8080/"
        },
        "id": "PrYeMGSnnOiQ",
        "outputId": "bf1fbb8b-2f16-43cb-ff93-3d6a250410d3"
      },
      "execution_count": 13,
      "outputs": [
        {
          "output_type": "stream",
          "name": "stdout",
          "text": [
            "[False  True False  True]\n",
            "[False False False  True]\n"
          ]
        }
      ]
    }
  ]
}