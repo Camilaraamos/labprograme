{
  "nbformat": 4,
  "nbformat_minor": 0,
  "metadata": {
    "colab": {
      "provenance": [],
      "authorship_tag": "ABX9TyN9SbVoyMwzpUrtYM+nlxIs",
      "include_colab_link": true
    },
    "kernelspec": {
      "name": "python3",
      "display_name": "Python 3"
    },
    "language_info": {
      "name": "python"
    }
  },
  "cells": [
    {
      "cell_type": "markdown",
      "metadata": {
        "id": "view-in-github",
        "colab_type": "text"
      },
      "source": [
        "<a href=\"https://colab.research.google.com/github/alysonbz/lab_prog_si/blob/camila_araujo/aula_15.ipynb\" target=\"_parent\"><img src=\"https://colab.research.google.com/assets/colab-badge.svg\" alt=\"Open In Colab\"/></a>"
      ]
    },
    {
      "cell_type": "code",
      "source": [
        "z = 4\n",
        "if 2 % 2 == 0:\n",
        "  print('z is even')"
      ],
      "metadata": {
        "colab": {
          "base_uri": "https://localhost:8080/"
        },
        "id": "Frwjaq7jWjvI",
        "outputId": "275f1912-0117-4cdb-f275-3a8331a19bea"
      },
      "execution_count": null,
      "outputs": [
        {
          "output_type": "stream",
          "name": "stdout",
          "text": [
            "Z is even\n"
          ]
        }
      ]
    },
    {
      "cell_type": "code",
      "source": [
        "z = 5\n",
        "if z % 2 == 0:\n",
        "  print('checking' + str(z))\n",
        "  print('z is even')"
      ],
      "metadata": {
        "id": "bFon15z6W0tT"
      },
      "execution_count": null,
      "outputs": []
    },
    {
      "cell_type": "code",
      "source": [
        "z = 5\n",
        "if z % 2 == 0:\n",
        "  print('z is even')\n",
        "else:\n",
        "  print('z is odd')"
      ],
      "metadata": {
        "colab": {
          "base_uri": "https://localhost:8080/"
        },
        "id": "LzQUtMAjXMCZ",
        "outputId": "2f2465d8-34ac-40b0-91e5-b03f108f7e21"
      },
      "execution_count": null,
      "outputs": [
        {
          "output_type": "stream",
          "name": "stdout",
          "text": [
            "z is odd\n"
          ]
        }
      ]
    },
    {
      "cell_type": "code",
      "source": [
        "z = 3\n",
        "if z % 2 == 0:\n",
        "  print('z is divisible by 2')\n",
        "elif z % 3 == 0:\n",
        "  print('z is divisible by 3')\n",
        "else:\n",
        "  print('z is divisible by 2 nor by 3')"
      ],
      "metadata": {
        "colab": {
          "base_uri": "https://localhost:8080/"
        },
        "id": "aYoCYrgPXjxf",
        "outputId": "fed5ed72-d934-44f2-b88d-bbb57b1c9c9b"
      },
      "execution_count": null,
      "outputs": [
        {
          "output_type": "stream",
          "name": "stdout",
          "text": [
            "z is divisible by 3\n"
          ]
        }
      ]
    },
    {
      "cell_type": "markdown",
      "source": [
        "pratique 156"
      ],
      "metadata": {
        "id": "MMeszOjcYdOr"
      }
    },
    {
      "cell_type": "code",
      "execution_count": null,
      "metadata": {
        "colab": {
          "base_uri": "https://localhost:8080/"
        },
        "id": "eOuXB8-3V_Va",
        "outputId": "295790a8-52de-4652-d589-2589e5201a7c"
      },
      "outputs": [
        {
          "output_type": "stream",
          "name": "stdout",
          "text": [
            "Looking around in the kitchen.\n",
            "Pretty small\n"
          ]
        }
      ],
      "source": [
        "room = 'kit'\n",
        "area = 14.0\n",
        "\n",
        "if room == 'kit':\n",
        "    print('Looking around in the kitchen.')\n",
        "    if area > 15:\n",
        "        print('Big Place')\n",
        "    else:\n",
        "        print('Pretty small')\n"
      ]
    },
    {
      "cell_type": "markdown",
      "source": [
        "filtragem de elementos com pandas"
      ],
      "metadata": {
        "id": "LqXPblabZWtv"
      }
    },
    {
      "cell_type": "code",
      "source": [
        "import pandas as pd\n",
        "brics = pd.read_csv('https://drive.usercontent.google.com/download?id=1AyKIujQCftGvsAZRMjrHBj8pSXPAzRq_&export=download&authuser=1', index_col=0)\n",
        "brics"
      ],
      "metadata": {
        "id": "UqF4fZzPY4nL",
        "outputId": "eba8296e-da63-420f-da9e-32f50f0f392b",
        "colab": {
          "base_uri": "https://localhost:8080/",
          "height": 238
        }
      },
      "execution_count": null,
      "outputs": [
        {
          "output_type": "execute_result",
          "data": {
            "text/plain": [
              "                 country    capital    area  population\n",
              "country_ab                                             \n",
              "BR                Brazil   Brasilia   8.516      200.40\n",
              "RU                Russia     Moscow  17.100      143.50\n",
              "IN                 India  New Delhi   3.286     1252.00\n",
              "CH                 China    Beijing   9.597     1357.00\n",
              "SA          South Africa   Pretoria   1.221       52.98"
            ],
            "text/html": [
              "\n",
              "  <div id=\"df-aebe27e5-5c8b-45e8-969f-a51d1cd44514\" class=\"colab-df-container\">\n",
              "    <div>\n",
              "<style scoped>\n",
              "    .dataframe tbody tr th:only-of-type {\n",
              "        vertical-align: middle;\n",
              "    }\n",
              "\n",
              "    .dataframe tbody tr th {\n",
              "        vertical-align: top;\n",
              "    }\n",
              "\n",
              "    .dataframe thead th {\n",
              "        text-align: right;\n",
              "    }\n",
              "</style>\n",
              "<table border=\"1\" class=\"dataframe\">\n",
              "  <thead>\n",
              "    <tr style=\"text-align: right;\">\n",
              "      <th></th>\n",
              "      <th>country</th>\n",
              "      <th>capital</th>\n",
              "      <th>area</th>\n",
              "      <th>population</th>\n",
              "    </tr>\n",
              "    <tr>\n",
              "      <th>country_ab</th>\n",
              "      <th></th>\n",
              "      <th></th>\n",
              "      <th></th>\n",
              "      <th></th>\n",
              "    </tr>\n",
              "  </thead>\n",
              "  <tbody>\n",
              "    <tr>\n",
              "      <th>BR</th>\n",
              "      <td>Brazil</td>\n",
              "      <td>Brasilia</td>\n",
              "      <td>8.516</td>\n",
              "      <td>200.40</td>\n",
              "    </tr>\n",
              "    <tr>\n",
              "      <th>RU</th>\n",
              "      <td>Russia</td>\n",
              "      <td>Moscow</td>\n",
              "      <td>17.100</td>\n",
              "      <td>143.50</td>\n",
              "    </tr>\n",
              "    <tr>\n",
              "      <th>IN</th>\n",
              "      <td>India</td>\n",
              "      <td>New Delhi</td>\n",
              "      <td>3.286</td>\n",
              "      <td>1252.00</td>\n",
              "    </tr>\n",
              "    <tr>\n",
              "      <th>CH</th>\n",
              "      <td>China</td>\n",
              "      <td>Beijing</td>\n",
              "      <td>9.597</td>\n",
              "      <td>1357.00</td>\n",
              "    </tr>\n",
              "    <tr>\n",
              "      <th>SA</th>\n",
              "      <td>South Africa</td>\n",
              "      <td>Pretoria</td>\n",
              "      <td>1.221</td>\n",
              "      <td>52.98</td>\n",
              "    </tr>\n",
              "  </tbody>\n",
              "</table>\n",
              "</div>\n",
              "    <div class=\"colab-df-buttons\">\n",
              "\n",
              "  <div class=\"colab-df-container\">\n",
              "    <button class=\"colab-df-convert\" onclick=\"convertToInteractive('df-aebe27e5-5c8b-45e8-969f-a51d1cd44514')\"\n",
              "            title=\"Convert this dataframe to an interactive table.\"\n",
              "            style=\"display:none;\">\n",
              "\n",
              "  <svg xmlns=\"http://www.w3.org/2000/svg\" height=\"24px\" viewBox=\"0 -960 960 960\">\n",
              "    <path d=\"M120-120v-720h720v720H120Zm60-500h600v-160H180v160Zm220 220h160v-160H400v160Zm0 220h160v-160H400v160ZM180-400h160v-160H180v160Zm440 0h160v-160H620v160ZM180-180h160v-160H180v160Zm440 0h160v-160H620v160Z\"/>\n",
              "  </svg>\n",
              "    </button>\n",
              "\n",
              "  <style>\n",
              "    .colab-df-container {\n",
              "      display:flex;\n",
              "      gap: 12px;\n",
              "    }\n",
              "\n",
              "    .colab-df-convert {\n",
              "      background-color: #E8F0FE;\n",
              "      border: none;\n",
              "      border-radius: 50%;\n",
              "      cursor: pointer;\n",
              "      display: none;\n",
              "      fill: #1967D2;\n",
              "      height: 32px;\n",
              "      padding: 0 0 0 0;\n",
              "      width: 32px;\n",
              "    }\n",
              "\n",
              "    .colab-df-convert:hover {\n",
              "      background-color: #E2EBFA;\n",
              "      box-shadow: 0px 1px 2px rgba(60, 64, 67, 0.3), 0px 1px 3px 1px rgba(60, 64, 67, 0.15);\n",
              "      fill: #174EA6;\n",
              "    }\n",
              "\n",
              "    .colab-df-buttons div {\n",
              "      margin-bottom: 4px;\n",
              "    }\n",
              "\n",
              "    [theme=dark] .colab-df-convert {\n",
              "      background-color: #3B4455;\n",
              "      fill: #D2E3FC;\n",
              "    }\n",
              "\n",
              "    [theme=dark] .colab-df-convert:hover {\n",
              "      background-color: #434B5C;\n",
              "      box-shadow: 0px 1px 3px 1px rgba(0, 0, 0, 0.15);\n",
              "      filter: drop-shadow(0px 1px 2px rgba(0, 0, 0, 0.3));\n",
              "      fill: #FFFFFF;\n",
              "    }\n",
              "  </style>\n",
              "\n",
              "    <script>\n",
              "      const buttonEl =\n",
              "        document.querySelector('#df-aebe27e5-5c8b-45e8-969f-a51d1cd44514 button.colab-df-convert');\n",
              "      buttonEl.style.display =\n",
              "        google.colab.kernel.accessAllowed ? 'block' : 'none';\n",
              "\n",
              "      async function convertToInteractive(key) {\n",
              "        const element = document.querySelector('#df-aebe27e5-5c8b-45e8-969f-a51d1cd44514');\n",
              "        const dataTable =\n",
              "          await google.colab.kernel.invokeFunction('convertToInteractive',\n",
              "                                                    [key], {});\n",
              "        if (!dataTable) return;\n",
              "\n",
              "        const docLinkHtml = 'Like what you see? Visit the ' +\n",
              "          '<a target=\"_blank\" href=https://colab.research.google.com/notebooks/data_table.ipynb>data table notebook</a>'\n",
              "          + ' to learn more about interactive tables.';\n",
              "        element.innerHTML = '';\n",
              "        dataTable['output_type'] = 'display_data';\n",
              "        await google.colab.output.renderOutput(dataTable, element);\n",
              "        const docLink = document.createElement('div');\n",
              "        docLink.innerHTML = docLinkHtml;\n",
              "        element.appendChild(docLink);\n",
              "      }\n",
              "    </script>\n",
              "  </div>\n",
              "\n",
              "\n",
              "    <div id=\"df-b62e1dfb-3d9d-4048-82e1-a02e786ec524\">\n",
              "      <button class=\"colab-df-quickchart\" onclick=\"quickchart('df-b62e1dfb-3d9d-4048-82e1-a02e786ec524')\"\n",
              "                title=\"Suggest charts\"\n",
              "                style=\"display:none;\">\n",
              "\n",
              "<svg xmlns=\"http://www.w3.org/2000/svg\" height=\"24px\"viewBox=\"0 0 24 24\"\n",
              "     width=\"24px\">\n",
              "    <g>\n",
              "        <path d=\"M19 3H5c-1.1 0-2 .9-2 2v14c0 1.1.9 2 2 2h14c1.1 0 2-.9 2-2V5c0-1.1-.9-2-2-2zM9 17H7v-7h2v7zm4 0h-2V7h2v10zm4 0h-2v-4h2v4z\"/>\n",
              "    </g>\n",
              "</svg>\n",
              "      </button>\n",
              "\n",
              "<style>\n",
              "  .colab-df-quickchart {\n",
              "      --bg-color: #E8F0FE;\n",
              "      --fill-color: #1967D2;\n",
              "      --hover-bg-color: #E2EBFA;\n",
              "      --hover-fill-color: #174EA6;\n",
              "      --disabled-fill-color: #AAA;\n",
              "      --disabled-bg-color: #DDD;\n",
              "  }\n",
              "\n",
              "  [theme=dark] .colab-df-quickchart {\n",
              "      --bg-color: #3B4455;\n",
              "      --fill-color: #D2E3FC;\n",
              "      --hover-bg-color: #434B5C;\n",
              "      --hover-fill-color: #FFFFFF;\n",
              "      --disabled-bg-color: #3B4455;\n",
              "      --disabled-fill-color: #666;\n",
              "  }\n",
              "\n",
              "  .colab-df-quickchart {\n",
              "    background-color: var(--bg-color);\n",
              "    border: none;\n",
              "    border-radius: 50%;\n",
              "    cursor: pointer;\n",
              "    display: none;\n",
              "    fill: var(--fill-color);\n",
              "    height: 32px;\n",
              "    padding: 0;\n",
              "    width: 32px;\n",
              "  }\n",
              "\n",
              "  .colab-df-quickchart:hover {\n",
              "    background-color: var(--hover-bg-color);\n",
              "    box-shadow: 0 1px 2px rgba(60, 64, 67, 0.3), 0 1px 3px 1px rgba(60, 64, 67, 0.15);\n",
              "    fill: var(--button-hover-fill-color);\n",
              "  }\n",
              "\n",
              "  .colab-df-quickchart-complete:disabled,\n",
              "  .colab-df-quickchart-complete:disabled:hover {\n",
              "    background-color: var(--disabled-bg-color);\n",
              "    fill: var(--disabled-fill-color);\n",
              "    box-shadow: none;\n",
              "  }\n",
              "\n",
              "  .colab-df-spinner {\n",
              "    border: 2px solid var(--fill-color);\n",
              "    border-color: transparent;\n",
              "    border-bottom-color: var(--fill-color);\n",
              "    animation:\n",
              "      spin 1s steps(1) infinite;\n",
              "  }\n",
              "\n",
              "  @keyframes spin {\n",
              "    0% {\n",
              "      border-color: transparent;\n",
              "      border-bottom-color: var(--fill-color);\n",
              "      border-left-color: var(--fill-color);\n",
              "    }\n",
              "    20% {\n",
              "      border-color: transparent;\n",
              "      border-left-color: var(--fill-color);\n",
              "      border-top-color: var(--fill-color);\n",
              "    }\n",
              "    30% {\n",
              "      border-color: transparent;\n",
              "      border-left-color: var(--fill-color);\n",
              "      border-top-color: var(--fill-color);\n",
              "      border-right-color: var(--fill-color);\n",
              "    }\n",
              "    40% {\n",
              "      border-color: transparent;\n",
              "      border-right-color: var(--fill-color);\n",
              "      border-top-color: var(--fill-color);\n",
              "    }\n",
              "    60% {\n",
              "      border-color: transparent;\n",
              "      border-right-color: var(--fill-color);\n",
              "    }\n",
              "    80% {\n",
              "      border-color: transparent;\n",
              "      border-right-color: var(--fill-color);\n",
              "      border-bottom-color: var(--fill-color);\n",
              "    }\n",
              "    90% {\n",
              "      border-color: transparent;\n",
              "      border-bottom-color: var(--fill-color);\n",
              "    }\n",
              "  }\n",
              "</style>\n",
              "\n",
              "      <script>\n",
              "        async function quickchart(key) {\n",
              "          const quickchartButtonEl =\n",
              "            document.querySelector('#' + key + ' button');\n",
              "          quickchartButtonEl.disabled = true;  // To prevent multiple clicks.\n",
              "          quickchartButtonEl.classList.add('colab-df-spinner');\n",
              "          try {\n",
              "            const charts = await google.colab.kernel.invokeFunction(\n",
              "                'suggestCharts', [key], {});\n",
              "          } catch (error) {\n",
              "            console.error('Error during call to suggestCharts:', error);\n",
              "          }\n",
              "          quickchartButtonEl.classList.remove('colab-df-spinner');\n",
              "          quickchartButtonEl.classList.add('colab-df-quickchart-complete');\n",
              "        }\n",
              "        (() => {\n",
              "          let quickchartButtonEl =\n",
              "            document.querySelector('#df-b62e1dfb-3d9d-4048-82e1-a02e786ec524 button');\n",
              "          quickchartButtonEl.style.display =\n",
              "            google.colab.kernel.accessAllowed ? 'block' : 'none';\n",
              "        })();\n",
              "      </script>\n",
              "    </div>\n",
              "\n",
              "  <div id=\"id_5c3d3985-9385-41f2-8a71-acae11028a30\">\n",
              "    <style>\n",
              "      .colab-df-generate {\n",
              "        background-color: #E8F0FE;\n",
              "        border: none;\n",
              "        border-radius: 50%;\n",
              "        cursor: pointer;\n",
              "        display: none;\n",
              "        fill: #1967D2;\n",
              "        height: 32px;\n",
              "        padding: 0 0 0 0;\n",
              "        width: 32px;\n",
              "      }\n",
              "\n",
              "      .colab-df-generate:hover {\n",
              "        background-color: #E2EBFA;\n",
              "        box-shadow: 0px 1px 2px rgba(60, 64, 67, 0.3), 0px 1px 3px 1px rgba(60, 64, 67, 0.15);\n",
              "        fill: #174EA6;\n",
              "      }\n",
              "\n",
              "      [theme=dark] .colab-df-generate {\n",
              "        background-color: #3B4455;\n",
              "        fill: #D2E3FC;\n",
              "      }\n",
              "\n",
              "      [theme=dark] .colab-df-generate:hover {\n",
              "        background-color: #434B5C;\n",
              "        box-shadow: 0px 1px 3px 1px rgba(0, 0, 0, 0.15);\n",
              "        filter: drop-shadow(0px 1px 2px rgba(0, 0, 0, 0.3));\n",
              "        fill: #FFFFFF;\n",
              "      }\n",
              "    </style>\n",
              "    <button class=\"colab-df-generate\" onclick=\"generateWithVariable('brics')\"\n",
              "            title=\"Generate code using this dataframe.\"\n",
              "            style=\"display:none;\">\n",
              "\n",
              "  <svg xmlns=\"http://www.w3.org/2000/svg\" height=\"24px\"viewBox=\"0 0 24 24\"\n",
              "       width=\"24px\">\n",
              "    <path d=\"M7,19H8.4L18.45,9,17,7.55,7,17.6ZM5,21V16.75L18.45,3.32a2,2,0,0,1,2.83,0l1.4,1.43a1.91,1.91,0,0,1,.58,1.4,1.91,1.91,0,0,1-.58,1.4L9.25,21ZM18.45,9,17,7.55Zm-12,3A5.31,5.31,0,0,0,4.9,8.1,5.31,5.31,0,0,0,1,6.5,5.31,5.31,0,0,0,4.9,4.9,5.31,5.31,0,0,0,6.5,1,5.31,5.31,0,0,0,8.1,4.9,5.31,5.31,0,0,0,12,6.5,5.46,5.46,0,0,0,6.5,12Z\"/>\n",
              "  </svg>\n",
              "    </button>\n",
              "    <script>\n",
              "      (() => {\n",
              "      const buttonEl =\n",
              "        document.querySelector('#id_5c3d3985-9385-41f2-8a71-acae11028a30 button.colab-df-generate');\n",
              "      buttonEl.style.display =\n",
              "        google.colab.kernel.accessAllowed ? 'block' : 'none';\n",
              "\n",
              "      buttonEl.onclick = () => {\n",
              "        google.colab.notebook.generateWithVariable('brics');\n",
              "      }\n",
              "      })();\n",
              "    </script>\n",
              "  </div>\n",
              "\n",
              "    </div>\n",
              "  </div>\n"
            ],
            "application/vnd.google.colaboratory.intrinsic+json": {
              "type": "dataframe",
              "variable_name": "brics",
              "summary": "{\n  \"name\": \"brics\",\n  \"rows\": 5,\n  \"fields\": [\n    {\n      \"column\": \"country_ab\",\n      \"properties\": {\n        \"dtype\": \"string\",\n        \"num_unique_values\": 5,\n        \"samples\": [\n          \"RU\",\n          \"SA\",\n          \"IN\"\n        ],\n        \"semantic_type\": \"\",\n        \"description\": \"\"\n      }\n    },\n    {\n      \"column\": \"country\",\n      \"properties\": {\n        \"dtype\": \"string\",\n        \"num_unique_values\": 5,\n        \"samples\": [\n          \"Russia\",\n          \"South Africa\",\n          \"India\"\n        ],\n        \"semantic_type\": \"\",\n        \"description\": \"\"\n      }\n    },\n    {\n      \"column\": \"capital\",\n      \"properties\": {\n        \"dtype\": \"string\",\n        \"num_unique_values\": 5,\n        \"samples\": [\n          \"Moscow\",\n          \"Pretoria\",\n          \"New Delhi\"\n        ],\n        \"semantic_type\": \"\",\n        \"description\": \"\"\n      }\n    },\n    {\n      \"column\": \"area\",\n      \"properties\": {\n        \"dtype\": \"number\",\n        \"std\": 6.200556870152875,\n        \"min\": 1.221,\n        \"max\": 17.1,\n        \"num_unique_values\": 5,\n        \"samples\": [\n          17.1,\n          1.221,\n          3.286\n        ],\n        \"semantic_type\": \"\",\n        \"description\": \"\"\n      }\n    },\n    {\n      \"column\": \"population\",\n      \"properties\": {\n        \"dtype\": \"number\",\n        \"std\": 645.2614538929162,\n        \"min\": 52.98,\n        \"max\": 1357.0,\n        \"num_unique_values\": 5,\n        \"samples\": [\n          143.5,\n          52.98,\n          1252.0\n        ],\n        \"semantic_type\": \"\",\n        \"description\": \"\"\n      }\n    }\n  ]\n}"
            }
          },
          "metadata": {},
          "execution_count": 10
        }
      ]
    },
    {
      "cell_type": "code",
      "source": [
        "brics['area']"
      ],
      "metadata": {
        "colab": {
          "base_uri": "https://localhost:8080/",
          "height": 272
        },
        "id": "jLS3Rj3JZUoN",
        "outputId": "0b824d4a-12b8-45b0-9268-def7a9ddb468"
      },
      "execution_count": 11,
      "outputs": [
        {
          "output_type": "execute_result",
          "data": {
            "text/plain": [
              "country_ab\n",
              "BR     8.516\n",
              "RU    17.100\n",
              "IN     3.286\n",
              "CH     9.597\n",
              "SA     1.221\n",
              "Name: area, dtype: float64"
            ],
            "text/html": [
              "<div>\n",
              "<style scoped>\n",
              "    .dataframe tbody tr th:only-of-type {\n",
              "        vertical-align: middle;\n",
              "    }\n",
              "\n",
              "    .dataframe tbody tr th {\n",
              "        vertical-align: top;\n",
              "    }\n",
              "\n",
              "    .dataframe thead th {\n",
              "        text-align: right;\n",
              "    }\n",
              "</style>\n",
              "<table border=\"1\" class=\"dataframe\">\n",
              "  <thead>\n",
              "    <tr style=\"text-align: right;\">\n",
              "      <th></th>\n",
              "      <th>area</th>\n",
              "    </tr>\n",
              "    <tr>\n",
              "      <th>country_ab</th>\n",
              "      <th></th>\n",
              "    </tr>\n",
              "  </thead>\n",
              "  <tbody>\n",
              "    <tr>\n",
              "      <th>BR</th>\n",
              "      <td>8.516</td>\n",
              "    </tr>\n",
              "    <tr>\n",
              "      <th>RU</th>\n",
              "      <td>17.100</td>\n",
              "    </tr>\n",
              "    <tr>\n",
              "      <th>IN</th>\n",
              "      <td>3.286</td>\n",
              "    </tr>\n",
              "    <tr>\n",
              "      <th>CH</th>\n",
              "      <td>9.597</td>\n",
              "    </tr>\n",
              "    <tr>\n",
              "      <th>SA</th>\n",
              "      <td>1.221</td>\n",
              "    </tr>\n",
              "  </tbody>\n",
              "</table>\n",
              "</div><br><label><b>dtype:</b> float64</label>"
            ]
          },
          "metadata": {},
          "execution_count": 11
        }
      ]
    },
    {
      "cell_type": "code",
      "source": [
        "brics ['area'] > 8"
      ],
      "metadata": {
        "colab": {
          "base_uri": "https://localhost:8080/",
          "height": 272
        },
        "id": "bKVFLfp3Zey3",
        "outputId": "4c394c04-686e-48d4-f33a-8439d21f9ce2"
      },
      "execution_count": 12,
      "outputs": [
        {
          "output_type": "execute_result",
          "data": {
            "text/plain": [
              "country_ab\n",
              "BR     True\n",
              "RU     True\n",
              "IN    False\n",
              "CH     True\n",
              "SA    False\n",
              "Name: area, dtype: bool"
            ],
            "text/html": [
              "<div>\n",
              "<style scoped>\n",
              "    .dataframe tbody tr th:only-of-type {\n",
              "        vertical-align: middle;\n",
              "    }\n",
              "\n",
              "    .dataframe tbody tr th {\n",
              "        vertical-align: top;\n",
              "    }\n",
              "\n",
              "    .dataframe thead th {\n",
              "        text-align: right;\n",
              "    }\n",
              "</style>\n",
              "<table border=\"1\" class=\"dataframe\">\n",
              "  <thead>\n",
              "    <tr style=\"text-align: right;\">\n",
              "      <th></th>\n",
              "      <th>area</th>\n",
              "    </tr>\n",
              "    <tr>\n",
              "      <th>country_ab</th>\n",
              "      <th></th>\n",
              "    </tr>\n",
              "  </thead>\n",
              "  <tbody>\n",
              "    <tr>\n",
              "      <th>BR</th>\n",
              "      <td>True</td>\n",
              "    </tr>\n",
              "    <tr>\n",
              "      <th>RU</th>\n",
              "      <td>True</td>\n",
              "    </tr>\n",
              "    <tr>\n",
              "      <th>IN</th>\n",
              "      <td>False</td>\n",
              "    </tr>\n",
              "    <tr>\n",
              "      <th>CH</th>\n",
              "      <td>True</td>\n",
              "    </tr>\n",
              "    <tr>\n",
              "      <th>SA</th>\n",
              "      <td>False</td>\n",
              "    </tr>\n",
              "  </tbody>\n",
              "</table>\n",
              "</div><br><label><b>dtype:</b> bool</label>"
            ]
          },
          "metadata": {},
          "execution_count": 12
        }
      ]
    },
    {
      "cell_type": "code",
      "source": [
        "brics[brics['area'] > 8]"
      ],
      "metadata": {
        "colab": {
          "base_uri": "https://localhost:8080/",
          "height": 175
        },
        "id": "D6fqAwg3aHnJ",
        "outputId": "e39d6d6f-0ecd-4d94-fb05-812d7d837798"
      },
      "execution_count": 15,
      "outputs": [
        {
          "output_type": "execute_result",
          "data": {
            "text/plain": [
              "           country   capital    area  population\n",
              "country_ab                                      \n",
              "BR          Brazil  Brasilia   8.516       200.4\n",
              "RU          Russia    Moscow  17.100       143.5\n",
              "CH           China   Beijing   9.597      1357.0"
            ],
            "text/html": [
              "\n",
              "  <div id=\"df-85107499-06a8-44cd-bf85-b0877b669ddb\" class=\"colab-df-container\">\n",
              "    <div>\n",
              "<style scoped>\n",
              "    .dataframe tbody tr th:only-of-type {\n",
              "        vertical-align: middle;\n",
              "    }\n",
              "\n",
              "    .dataframe tbody tr th {\n",
              "        vertical-align: top;\n",
              "    }\n",
              "\n",
              "    .dataframe thead th {\n",
              "        text-align: right;\n",
              "    }\n",
              "</style>\n",
              "<table border=\"1\" class=\"dataframe\">\n",
              "  <thead>\n",
              "    <tr style=\"text-align: right;\">\n",
              "      <th></th>\n",
              "      <th>country</th>\n",
              "      <th>capital</th>\n",
              "      <th>area</th>\n",
              "      <th>population</th>\n",
              "    </tr>\n",
              "    <tr>\n",
              "      <th>country_ab</th>\n",
              "      <th></th>\n",
              "      <th></th>\n",
              "      <th></th>\n",
              "      <th></th>\n",
              "    </tr>\n",
              "  </thead>\n",
              "  <tbody>\n",
              "    <tr>\n",
              "      <th>BR</th>\n",
              "      <td>Brazil</td>\n",
              "      <td>Brasilia</td>\n",
              "      <td>8.516</td>\n",
              "      <td>200.4</td>\n",
              "    </tr>\n",
              "    <tr>\n",
              "      <th>RU</th>\n",
              "      <td>Russia</td>\n",
              "      <td>Moscow</td>\n",
              "      <td>17.100</td>\n",
              "      <td>143.5</td>\n",
              "    </tr>\n",
              "    <tr>\n",
              "      <th>CH</th>\n",
              "      <td>China</td>\n",
              "      <td>Beijing</td>\n",
              "      <td>9.597</td>\n",
              "      <td>1357.0</td>\n",
              "    </tr>\n",
              "  </tbody>\n",
              "</table>\n",
              "</div>\n",
              "    <div class=\"colab-df-buttons\">\n",
              "\n",
              "  <div class=\"colab-df-container\">\n",
              "    <button class=\"colab-df-convert\" onclick=\"convertToInteractive('df-85107499-06a8-44cd-bf85-b0877b669ddb')\"\n",
              "            title=\"Convert this dataframe to an interactive table.\"\n",
              "            style=\"display:none;\">\n",
              "\n",
              "  <svg xmlns=\"http://www.w3.org/2000/svg\" height=\"24px\" viewBox=\"0 -960 960 960\">\n",
              "    <path d=\"M120-120v-720h720v720H120Zm60-500h600v-160H180v160Zm220 220h160v-160H400v160Zm0 220h160v-160H400v160ZM180-400h160v-160H180v160Zm440 0h160v-160H620v160ZM180-180h160v-160H180v160Zm440 0h160v-160H620v160Z\"/>\n",
              "  </svg>\n",
              "    </button>\n",
              "\n",
              "  <style>\n",
              "    .colab-df-container {\n",
              "      display:flex;\n",
              "      gap: 12px;\n",
              "    }\n",
              "\n",
              "    .colab-df-convert {\n",
              "      background-color: #E8F0FE;\n",
              "      border: none;\n",
              "      border-radius: 50%;\n",
              "      cursor: pointer;\n",
              "      display: none;\n",
              "      fill: #1967D2;\n",
              "      height: 32px;\n",
              "      padding: 0 0 0 0;\n",
              "      width: 32px;\n",
              "    }\n",
              "\n",
              "    .colab-df-convert:hover {\n",
              "      background-color: #E2EBFA;\n",
              "      box-shadow: 0px 1px 2px rgba(60, 64, 67, 0.3), 0px 1px 3px 1px rgba(60, 64, 67, 0.15);\n",
              "      fill: #174EA6;\n",
              "    }\n",
              "\n",
              "    .colab-df-buttons div {\n",
              "      margin-bottom: 4px;\n",
              "    }\n",
              "\n",
              "    [theme=dark] .colab-df-convert {\n",
              "      background-color: #3B4455;\n",
              "      fill: #D2E3FC;\n",
              "    }\n",
              "\n",
              "    [theme=dark] .colab-df-convert:hover {\n",
              "      background-color: #434B5C;\n",
              "      box-shadow: 0px 1px 3px 1px rgba(0, 0, 0, 0.15);\n",
              "      filter: drop-shadow(0px 1px 2px rgba(0, 0, 0, 0.3));\n",
              "      fill: #FFFFFF;\n",
              "    }\n",
              "  </style>\n",
              "\n",
              "    <script>\n",
              "      const buttonEl =\n",
              "        document.querySelector('#df-85107499-06a8-44cd-bf85-b0877b669ddb button.colab-df-convert');\n",
              "      buttonEl.style.display =\n",
              "        google.colab.kernel.accessAllowed ? 'block' : 'none';\n",
              "\n",
              "      async function convertToInteractive(key) {\n",
              "        const element = document.querySelector('#df-85107499-06a8-44cd-bf85-b0877b669ddb');\n",
              "        const dataTable =\n",
              "          await google.colab.kernel.invokeFunction('convertToInteractive',\n",
              "                                                    [key], {});\n",
              "        if (!dataTable) return;\n",
              "\n",
              "        const docLinkHtml = 'Like what you see? Visit the ' +\n",
              "          '<a target=\"_blank\" href=https://colab.research.google.com/notebooks/data_table.ipynb>data table notebook</a>'\n",
              "          + ' to learn more about interactive tables.';\n",
              "        element.innerHTML = '';\n",
              "        dataTable['output_type'] = 'display_data';\n",
              "        await google.colab.output.renderOutput(dataTable, element);\n",
              "        const docLink = document.createElement('div');\n",
              "        docLink.innerHTML = docLinkHtml;\n",
              "        element.appendChild(docLink);\n",
              "      }\n",
              "    </script>\n",
              "  </div>\n",
              "\n",
              "\n",
              "    <div id=\"df-455eb52a-2060-4991-b303-88504cb2a9e8\">\n",
              "      <button class=\"colab-df-quickchart\" onclick=\"quickchart('df-455eb52a-2060-4991-b303-88504cb2a9e8')\"\n",
              "                title=\"Suggest charts\"\n",
              "                style=\"display:none;\">\n",
              "\n",
              "<svg xmlns=\"http://www.w3.org/2000/svg\" height=\"24px\"viewBox=\"0 0 24 24\"\n",
              "     width=\"24px\">\n",
              "    <g>\n",
              "        <path d=\"M19 3H5c-1.1 0-2 .9-2 2v14c0 1.1.9 2 2 2h14c1.1 0 2-.9 2-2V5c0-1.1-.9-2-2-2zM9 17H7v-7h2v7zm4 0h-2V7h2v10zm4 0h-2v-4h2v4z\"/>\n",
              "    </g>\n",
              "</svg>\n",
              "      </button>\n",
              "\n",
              "<style>\n",
              "  .colab-df-quickchart {\n",
              "      --bg-color: #E8F0FE;\n",
              "      --fill-color: #1967D2;\n",
              "      --hover-bg-color: #E2EBFA;\n",
              "      --hover-fill-color: #174EA6;\n",
              "      --disabled-fill-color: #AAA;\n",
              "      --disabled-bg-color: #DDD;\n",
              "  }\n",
              "\n",
              "  [theme=dark] .colab-df-quickchart {\n",
              "      --bg-color: #3B4455;\n",
              "      --fill-color: #D2E3FC;\n",
              "      --hover-bg-color: #434B5C;\n",
              "      --hover-fill-color: #FFFFFF;\n",
              "      --disabled-bg-color: #3B4455;\n",
              "      --disabled-fill-color: #666;\n",
              "  }\n",
              "\n",
              "  .colab-df-quickchart {\n",
              "    background-color: var(--bg-color);\n",
              "    border: none;\n",
              "    border-radius: 50%;\n",
              "    cursor: pointer;\n",
              "    display: none;\n",
              "    fill: var(--fill-color);\n",
              "    height: 32px;\n",
              "    padding: 0;\n",
              "    width: 32px;\n",
              "  }\n",
              "\n",
              "  .colab-df-quickchart:hover {\n",
              "    background-color: var(--hover-bg-color);\n",
              "    box-shadow: 0 1px 2px rgba(60, 64, 67, 0.3), 0 1px 3px 1px rgba(60, 64, 67, 0.15);\n",
              "    fill: var(--button-hover-fill-color);\n",
              "  }\n",
              "\n",
              "  .colab-df-quickchart-complete:disabled,\n",
              "  .colab-df-quickchart-complete:disabled:hover {\n",
              "    background-color: var(--disabled-bg-color);\n",
              "    fill: var(--disabled-fill-color);\n",
              "    box-shadow: none;\n",
              "  }\n",
              "\n",
              "  .colab-df-spinner {\n",
              "    border: 2px solid var(--fill-color);\n",
              "    border-color: transparent;\n",
              "    border-bottom-color: var(--fill-color);\n",
              "    animation:\n",
              "      spin 1s steps(1) infinite;\n",
              "  }\n",
              "\n",
              "  @keyframes spin {\n",
              "    0% {\n",
              "      border-color: transparent;\n",
              "      border-bottom-color: var(--fill-color);\n",
              "      border-left-color: var(--fill-color);\n",
              "    }\n",
              "    20% {\n",
              "      border-color: transparent;\n",
              "      border-left-color: var(--fill-color);\n",
              "      border-top-color: var(--fill-color);\n",
              "    }\n",
              "    30% {\n",
              "      border-color: transparent;\n",
              "      border-left-color: var(--fill-color);\n",
              "      border-top-color: var(--fill-color);\n",
              "      border-right-color: var(--fill-color);\n",
              "    }\n",
              "    40% {\n",
              "      border-color: transparent;\n",
              "      border-right-color: var(--fill-color);\n",
              "      border-top-color: var(--fill-color);\n",
              "    }\n",
              "    60% {\n",
              "      border-color: transparent;\n",
              "      border-right-color: var(--fill-color);\n",
              "    }\n",
              "    80% {\n",
              "      border-color: transparent;\n",
              "      border-right-color: var(--fill-color);\n",
              "      border-bottom-color: var(--fill-color);\n",
              "    }\n",
              "    90% {\n",
              "      border-color: transparent;\n",
              "      border-bottom-color: var(--fill-color);\n",
              "    }\n",
              "  }\n",
              "</style>\n",
              "\n",
              "      <script>\n",
              "        async function quickchart(key) {\n",
              "          const quickchartButtonEl =\n",
              "            document.querySelector('#' + key + ' button');\n",
              "          quickchartButtonEl.disabled = true;  // To prevent multiple clicks.\n",
              "          quickchartButtonEl.classList.add('colab-df-spinner');\n",
              "          try {\n",
              "            const charts = await google.colab.kernel.invokeFunction(\n",
              "                'suggestCharts', [key], {});\n",
              "          } catch (error) {\n",
              "            console.error('Error during call to suggestCharts:', error);\n",
              "          }\n",
              "          quickchartButtonEl.classList.remove('colab-df-spinner');\n",
              "          quickchartButtonEl.classList.add('colab-df-quickchart-complete');\n",
              "        }\n",
              "        (() => {\n",
              "          let quickchartButtonEl =\n",
              "            document.querySelector('#df-455eb52a-2060-4991-b303-88504cb2a9e8 button');\n",
              "          quickchartButtonEl.style.display =\n",
              "            google.colab.kernel.accessAllowed ? 'block' : 'none';\n",
              "        })();\n",
              "      </script>\n",
              "    </div>\n",
              "\n",
              "    </div>\n",
              "  </div>\n"
            ],
            "application/vnd.google.colaboratory.intrinsic+json": {
              "type": "dataframe",
              "summary": "{\n  \"name\": \"brics[brics['area'] > 8]\",\n  \"rows\": 3,\n  \"fields\": [\n    {\n      \"column\": \"country_ab\",\n      \"properties\": {\n        \"dtype\": \"string\",\n        \"num_unique_values\": 3,\n        \"samples\": [\n          \"BR\",\n          \"RU\",\n          \"CH\"\n        ],\n        \"semantic_type\": \"\",\n        \"description\": \"\"\n      }\n    },\n    {\n      \"column\": \"country\",\n      \"properties\": {\n        \"dtype\": \"string\",\n        \"num_unique_values\": 3,\n        \"samples\": [\n          \"Brazil\",\n          \"Russia\",\n          \"China\"\n        ],\n        \"semantic_type\": \"\",\n        \"description\": \"\"\n      }\n    },\n    {\n      \"column\": \"capital\",\n      \"properties\": {\n        \"dtype\": \"string\",\n        \"num_unique_values\": 3,\n        \"samples\": [\n          \"Brasilia\",\n          \"Moscow\",\n          \"Beijing\"\n        ],\n        \"semantic_type\": \"\",\n        \"description\": \"\"\n      }\n    },\n    {\n      \"column\": \"area\",\n      \"properties\": {\n        \"dtype\": \"number\",\n        \"std\": 4.675265161820594,\n        \"min\": 8.516,\n        \"max\": 17.1,\n        \"num_unique_values\": 3,\n        \"samples\": [\n          8.516,\n          17.1,\n          9.597\n        ],\n        \"semantic_type\": \"\",\n        \"description\": \"\"\n      }\n    },\n    {\n      \"column\": \"population\",\n      \"properties\": {\n        \"dtype\": \"number\",\n        \"std\": 684.7801861424828,\n        \"min\": 143.5,\n        \"max\": 1357.0,\n        \"num_unique_values\": 3,\n        \"samples\": [\n          200.4,\n          143.5,\n          1357.0\n        ],\n        \"semantic_type\": \"\",\n        \"description\": \"\"\n      }\n    }\n  ]\n}"
            }
          },
          "metadata": {},
          "execution_count": 15
        }
      ]
    },
    {
      "cell_type": "markdown",
      "source": [
        "pratique 162"
      ],
      "metadata": {
        "id": "PkwZjmeTak4E"
      }
    },
    {
      "cell_type": "code",
      "source": [
        "import pandas as pd\n",
        "\n",
        "brics = pd.read_csv('https://drive.usercontent.google.com/download?id=1kp1WzC5JojaWuj_HuSWni61Upsa1N9bo&export=download&authuser=1', index_col = 0)\n",
        "dr = brics[\"drives_right\"] == True\n",
        "sel = brics[dr]\n",
        "print(sel)\n",
        "\n",
        "print(brics[brics[\"drives_right\"] == True])\n"
      ],
      "metadata": {
        "colab": {
          "base_uri": "https://localhost:8080/"
        },
        "id": "24VnMG-xah-1",
        "outputId": "18a7d2da-b30b-4935-a44f-f6fcffe4a93b"
      },
      "execution_count": 18,
      "outputs": [
        {
          "output_type": "stream",
          "name": "stdout",
          "text": [
            "            cars_per_cap        country  drives_right\n",
            "country_ab                                           \n",
            "US                   809  United States          True\n",
            "RU                   200         Russia          True\n",
            "MOR                   70        Morocco          True\n",
            "EG                    45          Egypt          True\n",
            "            cars_per_cap        country  drives_right\n",
            "country_ab                                           \n",
            "US                   809  United States          True\n",
            "RU                   200         Russia          True\n",
            "MOR                   70        Morocco          True\n",
            "EG                    45          Egypt          True\n"
          ]
        }
      ]
    },
    {
      "cell_type": "code",
      "source": [
        "error = 50.0\n",
        "while error > 1:\n",
        "  error = error / 4\n",
        "  print(error)"
      ],
      "metadata": {
        "colab": {
          "base_uri": "https://localhost:8080/"
        },
        "id": "M6qpYH0DbNWb",
        "outputId": "116a2c8f-aa08-4f94-b66e-ff6328325b88"
      },
      "execution_count": 21,
      "outputs": [
        {
          "output_type": "stream",
          "name": "stdout",
          "text": [
            "12.5\n",
            "3.125\n",
            "0.78125\n"
          ]
        }
      ]
    },
    {
      "cell_type": "markdown",
      "source": [
        "pratique 164"
      ],
      "metadata": {
        "id": "a5Crk0b3biLZ"
      }
    },
    {
      "cell_type": "code",
      "source": [
        "offset = 10\n",
        "\n",
        "while offset != 0:\n",
        "    offset -= 1\n",
        "    print(offset)\n"
      ],
      "metadata": {
        "colab": {
          "base_uri": "https://localhost:8080/"
        },
        "id": "I1fpjoh0bhRw",
        "outputId": "5e1a7a14-604c-4ef4-ca91-f7510c0c7b84"
      },
      "execution_count": 24,
      "outputs": [
        {
          "output_type": "stream",
          "name": "stdout",
          "text": [
            "9\n",
            "8\n",
            "7\n",
            "6\n",
            "5\n",
            "4\n",
            "3\n",
            "2\n",
            "1\n",
            "0\n"
          ]
        }
      ]
    },
    {
      "cell_type": "code",
      "source": [
        "fam = [1.73, 1.68, 1.71, 1.89]\n",
        "for height in fam:\n",
        "  print(height)"
      ],
      "metadata": {
        "colab": {
          "base_uri": "https://localhost:8080/"
        },
        "id": "0t_hFPRMbrNW",
        "outputId": "c0ba3b12-4e89-4ee6-a073-14ba2b02f26e"
      },
      "execution_count": 26,
      "outputs": [
        {
          "output_type": "stream",
          "name": "stdout",
          "text": [
            "1.73\n",
            "1.68\n",
            "1.71\n",
            "1.89\n"
          ]
        }
      ]
    },
    {
      "cell_type": "code",
      "source": [
        "fam = [1.73, 1.68, 1.71, 1.89]\n",
        "for index, height in enumerate(fam):\n",
        "  print('index' + str(index) + ': ' + str(height))"
      ],
      "metadata": {
        "colab": {
          "base_uri": "https://localhost:8080/"
        },
        "id": "B2HhtU-_b5iF",
        "outputId": "e73384ab-d8c1-4c5e-c3cc-cb6a96d6d55c"
      },
      "execution_count": 27,
      "outputs": [
        {
          "output_type": "stream",
          "name": "stdout",
          "text": [
            "index0: 1.73\n",
            "index1: 1.68\n",
            "index2: 1.71\n",
            "index3: 1.89\n"
          ]
        }
      ]
    },
    {
      "cell_type": "markdown",
      "source": [
        "pratique 167"
      ],
      "metadata": {
        "id": "vOeFGkrWcLi5"
      }
    },
    {
      "cell_type": "code",
      "source": [
        "areas = [11.25, 18.0, 20.0, 10.75, 9.50]\n",
        "\n",
        "for area in areas:\n",
        "    print(area)\n"
      ],
      "metadata": {
        "colab": {
          "base_uri": "https://localhost:8080/"
        },
        "id": "V5lF0m4XcNV8",
        "outputId": "1db4335f-a332-4aac-db65-faa6b2aeb47c"
      },
      "execution_count": 28,
      "outputs": [
        {
          "output_type": "stream",
          "name": "stdout",
          "text": [
            "11.25\n",
            "18.0\n",
            "20.0\n",
            "10.75\n",
            "9.5\n"
          ]
        }
      ]
    },
    {
      "cell_type": "markdown",
      "source": [
        "pratique 168"
      ],
      "metadata": {
        "id": "t0FPtp9lccmh"
      }
    },
    {
      "cell_type": "code",
      "source": [
        "areas = [11.25, 18.0, 20.0, 10.75, 9.50]\n",
        "\n",
        "for index, area in enumerate(areas):\n",
        "    print(f\"Index {index}: {area}\")\n",
        "\n"
      ],
      "metadata": {
        "colab": {
          "base_uri": "https://localhost:8080/"
        },
        "id": "CmuoGybrcefM",
        "outputId": "05341800-f4e5-4ddd-bd49-35e1ff9dfe1b"
      },
      "execution_count": 29,
      "outputs": [
        {
          "output_type": "stream",
          "name": "stdout",
          "text": [
            "Index 0: 11.25\n",
            "Index 1: 18.0\n",
            "Index 2: 20.0\n",
            "Index 3: 10.75\n",
            "Index 4: 9.5\n"
          ]
        }
      ]
    },
    {
      "cell_type": "markdown",
      "source": [
        "pratique 169"
      ],
      "metadata": {
        "id": "0FWzZPMRcny4"
      }
    },
    {
      "cell_type": "code",
      "source": [
        "house  = [['hallway', 11.25], ['kitchen', 18.0], ['living room', 20.0], ['bedroom', 10.75], ['bathroom', 9.50]]\n",
        "\n",
        "for room in house:\n",
        "    name = room[0]\n",
        "    area = room[1]\n",
        "    print(f\"The {name} is {area} sqm\")\n"
      ],
      "metadata": {
        "colab": {
          "base_uri": "https://localhost:8080/"
        },
        "id": "hzrqJtFjcp4t",
        "outputId": "ed59ceed-b5fb-46d5-cb6f-4c297becc97e"
      },
      "execution_count": 3,
      "outputs": [
        {
          "output_type": "stream",
          "name": "stdout",
          "text": [
            "The hallway is 11.25 sqm\n",
            "The kitchen is 18.0 sqm\n",
            "The living room is 20.0 sqm\n",
            "The bedroom is 10.75 sqm\n",
            "The bathroom is 9.5 sqm\n"
          ]
        }
      ]
    },
    {
      "cell_type": "code",
      "source": [
        "world = {'afghanisthan': 30.55,\n",
        "        'albania': 2.77,\n",
        "        'algeria': 39.21}\n",
        "\n",
        "for key, value in world.items():\n",
        "   print(key + '--' + str(value))"
      ],
      "metadata": {
        "colab": {
          "base_uri": "https://localhost:8080/"
        },
        "id": "uXhsuA5xa3ii",
        "outputId": "976c009c-e36e-434d-e050-40e0ac46172c"
      },
      "execution_count": 8,
      "outputs": [
        {
          "output_type": "stream",
          "name": "stdout",
          "text": [
            "afghanisthan--30.55\n",
            "albania--2.77\n",
            "algeria--39.21\n"
          ]
        }
      ]
    },
    {
      "cell_type": "code",
      "source": [
        "import numpy as np\n",
        "np_height = np.array([1.73, 1.68, 1.71, 1.89, 1.79])\n",
        "np_weight = np.array([65.4, 59.2, 63.6, 88.4, 68.7])\n",
        "bmi = np_weight / np_height ** 2\n",
        "for val in bmi:\n",
        "  print(val)"
      ],
      "metadata": {
        "colab": {
          "base_uri": "https://localhost:8080/"
        },
        "id": "raXTvOcVbzoa",
        "outputId": "ec6a6ca3-90b6-4a43-ad6a-26438e6ffa10"
      },
      "execution_count": 9,
      "outputs": [
        {
          "output_type": "stream",
          "name": "stdout",
          "text": [
            "21.85171572722109\n",
            "20.97505668934241\n",
            "21.750282138093777\n",
            "24.74734749867025\n",
            "21.44127836209856\n"
          ]
        }
      ]
    },
    {
      "cell_type": "code",
      "source": [
        "import numpy as np\n",
        "np_height = np.array([1.73, 1.68, 1.71, 1.89, 1.79])\n",
        "np_weight = np.array([65.4, 59.2, 63.6, 88.4, 68.7])\n",
        "meas = np.array([np_height, np_weight])\n",
        "for val in meas:\n",
        "  print(val)"
      ],
      "metadata": {
        "colab": {
          "base_uri": "https://localhost:8080/"
        },
        "id": "H8uLKNeOci0_",
        "outputId": "a2d9c0d2-efeb-48d5-f61a-7a217ad9507d"
      },
      "execution_count": 11,
      "outputs": [
        {
          "output_type": "stream",
          "name": "stdout",
          "text": [
            "[1.73 1.68 1.71 1.89 1.79]\n",
            "[65.4 59.2 63.6 88.4 68.7]\n"
          ]
        }
      ]
    },
    {
      "cell_type": "code",
      "source": [
        "import numpy as np\n",
        "np_height = np.array([1.73, 1.68, 1.71, 1.89, 1.79])\n",
        "np_weight = np.array([65.4, 59.2, 63.6, 88.4, 68.7])\n",
        "meas = np.array([np_height, np_weight])\n",
        "for val in np.nditer(meas):\n",
        "  print(val)"
      ],
      "metadata": {
        "colab": {
          "base_uri": "https://localhost:8080/"
        },
        "id": "R0Kzb3BDdHps",
        "outputId": "e97e0f9c-8d2d-4604-f1b3-f3bbdedc39db"
      },
      "execution_count": 12,
      "outputs": [
        {
          "output_type": "stream",
          "name": "stdout",
          "text": [
            "1.73\n",
            "1.68\n",
            "1.71\n",
            "1.89\n",
            "1.79\n",
            "65.4\n",
            "59.2\n",
            "63.6\n",
            "88.4\n",
            "68.7\n"
          ]
        }
      ]
    },
    {
      "cell_type": "markdown",
      "source": [
        "pratique 175"
      ],
      "metadata": {
        "id": "tOF3N8FPdXyP"
      }
    },
    {
      "cell_type": "code",
      "source": [
        "europe = {\n",
        "    'spain': 'madrid',\n",
        "    'france': 'paris',\n",
        "    'germany': 'berlin',\n",
        "    'norway': 'oslo',\n",
        "    'italy': 'rome',\n",
        "    'poland': 'warsaw',\n",
        "    'austria': 'vienna'\n",
        "}\n",
        "\n",
        "for country, capital in europe.items():\n",
        "    print(f\"The capital of {country} is {capital}\")\n"
      ],
      "metadata": {
        "colab": {
          "base_uri": "https://localhost:8080/"
        },
        "id": "8x5K7OhVdbk4",
        "outputId": "c3406f15-8346-4cb2-a88b-cc55d9d7e75d"
      },
      "execution_count": 13,
      "outputs": [
        {
          "output_type": "stream",
          "name": "stdout",
          "text": [
            "The capital of spain is madrid\n",
            "The capital of france is paris\n",
            "The capital of germany is berlin\n",
            "The capital of norway is oslo\n",
            "The capital of italy is rome\n",
            "The capital of poland is warsaw\n",
            "The capital of austria is vienna\n"
          ]
        }
      ]
    },
    {
      "cell_type": "markdown",
      "source": [
        "pratique 176"
      ],
      "metadata": {
        "id": "nw3zndYseIaC"
      }
    },
    {
      "cell_type": "code",
      "source": [
        "import numpy as np\n",
        "\n",
        "array_2d = np.array([\n",
        "    np.arange(1, 11),\n",
        "    np.arange(11, 21)])\n",
        "\n",
        "for linha in array_2d:\n",
        "    print(linha)\n",
        "\n",
        "for linha in array_2d:\n",
        "    for elemento in linha:\n",
        "        print(elemento)\n"
      ],
      "metadata": {
        "colab": {
          "base_uri": "https://localhost:8080/"
        },
        "id": "rG2d9BVveK1R",
        "outputId": "e397614e-6ea6-4f39-b7e4-fe84df938d38"
      },
      "execution_count": 14,
      "outputs": [
        {
          "output_type": "stream",
          "name": "stdout",
          "text": [
            "[ 1  2  3  4  5  6  7  8  9 10]\n",
            "[11 12 13 14 15 16 17 18 19 20]\n",
            "1\n",
            "2\n",
            "3\n",
            "4\n",
            "5\n",
            "6\n",
            "7\n",
            "8\n",
            "9\n",
            "10\n",
            "11\n",
            "12\n",
            "13\n",
            "14\n",
            "15\n",
            "16\n",
            "17\n",
            "18\n",
            "19\n",
            "20\n"
          ]
        }
      ]
    },
    {
      "cell_type": "code",
      "source": [
        "import pandas as pd\n",
        "brics = pd.read_csv('https://drive.usercontent.google.com/download?id=1kp1WzC5JojaWuj_HuSWni61Upsa1N9bo&export=download&authuser=1', index_col = 0)\n",
        "for val in brics:\n",
        "  print(val)"
      ],
      "metadata": {
        "colab": {
          "base_uri": "https://localhost:8080/"
        },
        "id": "znsXOKCveggu",
        "outputId": "0a5bf3e0-20ed-4828-a9c4-c7b109735205"
      },
      "execution_count": 21,
      "outputs": [
        {
          "output_type": "stream",
          "name": "stdout",
          "text": [
            "cars_per_cap\n",
            "country\n",
            "drives_right\n"
          ]
        }
      ]
    },
    {
      "cell_type": "code",
      "source": [
        "import pandas as pd\n",
        "brics = pd.read_csv('https://drive.usercontent.google.com/download?id=1kp1WzC5JojaWuj_HuSWni61Upsa1N9bo&export=download&authuser=1', index_col = 0)\n",
        "for lab, row in brics.iterrows():\n",
        "  print(lab)\n",
        "  print(row)\n"
      ],
      "metadata": {
        "colab": {
          "base_uri": "https://localhost:8080/"
        },
        "id": "RdcYQmNwfFuv",
        "outputId": "972b8c1a-80e5-4c5e-aefb-d7cdd24c26bf"
      },
      "execution_count": 22,
      "outputs": [
        {
          "output_type": "stream",
          "name": "stdout",
          "text": [
            "US\n",
            "cars_per_cap              809\n",
            "country         United States\n",
            "drives_right             True\n",
            "Name: US, dtype: object\n",
            "AUS\n",
            "cars_per_cap          731\n",
            "country         Australia\n",
            "drives_right        False\n",
            "Name: AUS, dtype: object\n",
            "JAP\n",
            "cars_per_cap      588\n",
            "country         Japan\n",
            "drives_right    False\n",
            "Name: JAP, dtype: object\n",
            "IN\n",
            "cars_per_cap       18\n",
            "country         India\n",
            "drives_right    False\n",
            "Name: IN, dtype: object\n",
            "RU\n",
            "cars_per_cap       200\n",
            "country         Russia\n",
            "drives_right      True\n",
            "Name: RU, dtype: object\n",
            "MOR\n",
            "cars_per_cap         70\n",
            "country         Morocco\n",
            "drives_right       True\n",
            "Name: MOR, dtype: object\n",
            "EG\n",
            "cars_per_cap       45\n",
            "country         Egypt\n",
            "drives_right     True\n",
            "Name: EG, dtype: object\n"
          ]
        }
      ]
    },
    {
      "cell_type": "code",
      "source": [
        "import pandas as pd\n",
        "brics = pd.read_csv('https://drive.usercontent.google.com/download?id=1kp1WzC5JojaWuj_HuSWni61Upsa1N9bo&export=download&authuser=1', index_col = 0)\n",
        "for lab, row in brics.iterrows():\n",
        "  print(lab + ': ' + row['country'])"
      ],
      "metadata": {
        "colab": {
          "base_uri": "https://localhost:8080/"
        },
        "id": "YQhSRxC8fdst",
        "outputId": "e9a540df-75e0-40e7-e844-706d01133f66"
      },
      "execution_count": 24,
      "outputs": [
        {
          "output_type": "stream",
          "name": "stdout",
          "text": [
            "US: United States\n",
            "AUS: Australia\n",
            "JAP: Japan\n",
            "IN: India\n",
            "RU: Russia\n",
            "MOR: Morocco\n",
            "EG: Egypt\n"
          ]
        }
      ]
    },
    {
      "cell_type": "code",
      "source": [
        "import pandas as pd\n",
        "brics = pd.read_csv('https://drive.usercontent.google.com/download?id=1kp1WzC5JojaWuj_HuSWni61Upsa1N9bo&export=download&authuser=1', index_col = 0)\n",
        "for lab, row in brics.iterrows():\n",
        "  brics.loc[lab, 'name_length'] = len(row['country'])\n",
        "  print(brics)"
      ],
      "metadata": {
        "colab": {
          "base_uri": "https://localhost:8080/"
        },
        "id": "fMcu6RIagFep",
        "outputId": "96d98108-443c-4cd5-e0f8-7c6d2235a743"
      },
      "execution_count": 25,
      "outputs": [
        {
          "output_type": "stream",
          "name": "stdout",
          "text": [
            "            cars_per_cap        country  drives_right  name_length\n",
            "country_ab                                                        \n",
            "US                   809  United States          True         13.0\n",
            "AUS                  731      Australia         False          NaN\n",
            "JAP                  588          Japan         False          NaN\n",
            "IN                    18          India         False          NaN\n",
            "RU                   200         Russia          True          NaN\n",
            "MOR                   70        Morocco          True          NaN\n",
            "EG                    45          Egypt          True          NaN\n",
            "            cars_per_cap        country  drives_right  name_length\n",
            "country_ab                                                        \n",
            "US                   809  United States          True         13.0\n",
            "AUS                  731      Australia         False          9.0\n",
            "JAP                  588          Japan         False          NaN\n",
            "IN                    18          India         False          NaN\n",
            "RU                   200         Russia          True          NaN\n",
            "MOR                   70        Morocco          True          NaN\n",
            "EG                    45          Egypt          True          NaN\n",
            "            cars_per_cap        country  drives_right  name_length\n",
            "country_ab                                                        \n",
            "US                   809  United States          True         13.0\n",
            "AUS                  731      Australia         False          9.0\n",
            "JAP                  588          Japan         False          5.0\n",
            "IN                    18          India         False          NaN\n",
            "RU                   200         Russia          True          NaN\n",
            "MOR                   70        Morocco          True          NaN\n",
            "EG                    45          Egypt          True          NaN\n",
            "            cars_per_cap        country  drives_right  name_length\n",
            "country_ab                                                        \n",
            "US                   809  United States          True         13.0\n",
            "AUS                  731      Australia         False          9.0\n",
            "JAP                  588          Japan         False          5.0\n",
            "IN                    18          India         False          5.0\n",
            "RU                   200         Russia          True          NaN\n",
            "MOR                   70        Morocco          True          NaN\n",
            "EG                    45          Egypt          True          NaN\n",
            "            cars_per_cap        country  drives_right  name_length\n",
            "country_ab                                                        \n",
            "US                   809  United States          True         13.0\n",
            "AUS                  731      Australia         False          9.0\n",
            "JAP                  588          Japan         False          5.0\n",
            "IN                    18          India         False          5.0\n",
            "RU                   200         Russia          True          6.0\n",
            "MOR                   70        Morocco          True          NaN\n",
            "EG                    45          Egypt          True          NaN\n",
            "            cars_per_cap        country  drives_right  name_length\n",
            "country_ab                                                        \n",
            "US                   809  United States          True         13.0\n",
            "AUS                  731      Australia         False          9.0\n",
            "JAP                  588          Japan         False          5.0\n",
            "IN                    18          India         False          5.0\n",
            "RU                   200         Russia          True          6.0\n",
            "MOR                   70        Morocco          True          7.0\n",
            "EG                    45          Egypt          True          NaN\n",
            "            cars_per_cap        country  drives_right  name_length\n",
            "country_ab                                                        \n",
            "US                   809  United States          True         13.0\n",
            "AUS                  731      Australia         False          9.0\n",
            "JAP                  588          Japan         False          5.0\n",
            "IN                    18          India         False          5.0\n",
            "RU                   200         Russia          True          6.0\n",
            "MOR                   70        Morocco          True          7.0\n",
            "EG                    45          Egypt          True          5.0\n"
          ]
        }
      ]
    },
    {
      "cell_type": "code",
      "source": [
        "import pandas as pd\n",
        "brics = pd.read_csv('https://drive.usercontent.google.com/download?id=1kp1WzC5JojaWuj_HuSWni61Upsa1N9bo&export=download&authuser=1', index_col = 0)\n",
        "for lab, row in brics.iterrows():\n",
        "  brics['name_length'] = brics['country'].apply(len)\n",
        "  print(brics)"
      ],
      "metadata": {
        "colab": {
          "base_uri": "https://localhost:8080/"
        },
        "id": "1UYeyvrRgZiO",
        "outputId": "9363cfe7-babc-4302-8b85-2d1f95ab94d1"
      },
      "execution_count": 26,
      "outputs": [
        {
          "output_type": "stream",
          "name": "stdout",
          "text": [
            "            cars_per_cap        country  drives_right  name_length\n",
            "country_ab                                                        \n",
            "US                   809  United States          True           13\n",
            "AUS                  731      Australia         False            9\n",
            "JAP                  588          Japan         False            5\n",
            "IN                    18          India         False            5\n",
            "RU                   200         Russia          True            6\n",
            "MOR                   70        Morocco          True            7\n",
            "EG                    45          Egypt          True            5\n",
            "            cars_per_cap        country  drives_right  name_length\n",
            "country_ab                                                        \n",
            "US                   809  United States          True           13\n",
            "AUS                  731      Australia         False            9\n",
            "JAP                  588          Japan         False            5\n",
            "IN                    18          India         False            5\n",
            "RU                   200         Russia          True            6\n",
            "MOR                   70        Morocco          True            7\n",
            "EG                    45          Egypt          True            5\n",
            "            cars_per_cap        country  drives_right  name_length\n",
            "country_ab                                                        \n",
            "US                   809  United States          True           13\n",
            "AUS                  731      Australia         False            9\n",
            "JAP                  588          Japan         False            5\n",
            "IN                    18          India         False            5\n",
            "RU                   200         Russia          True            6\n",
            "MOR                   70        Morocco          True            7\n",
            "EG                    45          Egypt          True            5\n",
            "            cars_per_cap        country  drives_right  name_length\n",
            "country_ab                                                        \n",
            "US                   809  United States          True           13\n",
            "AUS                  731      Australia         False            9\n",
            "JAP                  588          Japan         False            5\n",
            "IN                    18          India         False            5\n",
            "RU                   200         Russia          True            6\n",
            "MOR                   70        Morocco          True            7\n",
            "EG                    45          Egypt          True            5\n",
            "            cars_per_cap        country  drives_right  name_length\n",
            "country_ab                                                        \n",
            "US                   809  United States          True           13\n",
            "AUS                  731      Australia         False            9\n",
            "JAP                  588          Japan         False            5\n",
            "IN                    18          India         False            5\n",
            "RU                   200         Russia          True            6\n",
            "MOR                   70        Morocco          True            7\n",
            "EG                    45          Egypt          True            5\n",
            "            cars_per_cap        country  drives_right  name_length\n",
            "country_ab                                                        \n",
            "US                   809  United States          True           13\n",
            "AUS                  731      Australia         False            9\n",
            "JAP                  588          Japan         False            5\n",
            "IN                    18          India         False            5\n",
            "RU                   200         Russia          True            6\n",
            "MOR                   70        Morocco          True            7\n",
            "EG                    45          Egypt          True            5\n",
            "            cars_per_cap        country  drives_right  name_length\n",
            "country_ab                                                        \n",
            "US                   809  United States          True           13\n",
            "AUS                  731      Australia         False            9\n",
            "JAP                  588          Japan         False            5\n",
            "IN                    18          India         False            5\n",
            "RU                   200         Russia          True            6\n",
            "MOR                   70        Morocco          True            7\n",
            "EG                    45          Egypt          True            5\n"
          ]
        }
      ]
    },
    {
      "cell_type": "markdown",
      "source": [
        "pratique 182"
      ],
      "metadata": {
        "id": "HDzgVDGKhOhf"
      }
    },
    {
      "cell_type": "code",
      "source": [
        "import pandas as pd\n",
        "cars = pd.read_csv('https://drive.usercontent.google.com/download?id=1kp1WzC5JojaWuj_HuSWni61Upsa1N9bo&export=download&authuser=1', index_col = 0)\n",
        "\n",
        "for index, row in cars.iterrows():\n",
        "    print(f\"Linha ID {index}:\")\n",
        "    print(row)\n"
      ],
      "metadata": {
        "colab": {
          "base_uri": "https://localhost:8080/"
        },
        "id": "BpRlGP8Kgr4J",
        "outputId": "a846548f-2ff9-4364-a8cd-69c610770264"
      },
      "execution_count": 36,
      "outputs": [
        {
          "output_type": "stream",
          "name": "stdout",
          "text": [
            "Linha ID US:\n",
            "cars_per_cap              809\n",
            "country         United States\n",
            "drives_right             True\n",
            "Name: US, dtype: object\n",
            "Linha ID AUS:\n",
            "cars_per_cap          731\n",
            "country         Australia\n",
            "drives_right        False\n",
            "Name: AUS, dtype: object\n",
            "Linha ID JAP:\n",
            "cars_per_cap      588\n",
            "country         Japan\n",
            "drives_right    False\n",
            "Name: JAP, dtype: object\n",
            "Linha ID IN:\n",
            "cars_per_cap       18\n",
            "country         India\n",
            "drives_right    False\n",
            "Name: IN, dtype: object\n",
            "Linha ID RU:\n",
            "cars_per_cap       200\n",
            "country         Russia\n",
            "drives_right      True\n",
            "Name: RU, dtype: object\n",
            "Linha ID MOR:\n",
            "cars_per_cap         70\n",
            "country         Morocco\n",
            "drives_right       True\n",
            "Name: MOR, dtype: object\n",
            "Linha ID EG:\n",
            "cars_per_cap       45\n",
            "country         Egypt\n",
            "drives_right     True\n",
            "Name: EG, dtype: object\n"
          ]
        }
      ]
    },
    {
      "cell_type": "markdown",
      "source": [
        "pratique 183"
      ],
      "metadata": {
        "id": "UxvoSUxshQ63"
      }
    },
    {
      "cell_type": "code",
      "source": [
        "import pandas as pd\n",
        "\n",
        "brics = pd.read_csv('https://drive.usercontent.google.com/download?id=1kp1WzC5JojaWuj_HuSWni61Upsa1N9bo&export=download&authuser=1', index_col=0)\n",
        "\n",
        "print(brics.columns)\n",
        "\n",
        "for lab, row in brics.iterrows():\n",
        "    print(f\"{lab}: {row['cars_per_cap']}\")\n"
      ],
      "metadata": {
        "colab": {
          "base_uri": "https://localhost:8080/"
        },
        "id": "aNZ0ZQSwhSy1",
        "outputId": "d4926d59-b7c7-47d4-d0ec-6d7467cb88a8"
      },
      "execution_count": 35,
      "outputs": [
        {
          "output_type": "stream",
          "name": "stdout",
          "text": [
            "Index(['cars_per_cap', 'country', 'drives_right'], dtype='object')\n",
            "US: 809\n",
            "AUS: 731\n",
            "JAP: 588\n",
            "IN: 18\n",
            "RU: 200\n",
            "MOR: 70\n",
            "EG: 45\n"
          ]
        }
      ]
    },
    {
      "cell_type": "markdown",
      "source": [
        "pratique 184"
      ],
      "metadata": {
        "id": "IE26jWhYitzo"
      }
    },
    {
      "cell_type": "code",
      "source": [
        "import pandas as pd\n",
        "cars = pd.read_csv('https://drive.usercontent.google.com/download?id=1kp1WzC5JojaWuj_HuSWni61Upsa1N9bo&export=download&authuser=1', index_col=0)\n",
        "\n",
        "country_names = []\n",
        "\n",
        "for label, row in cars.iterrows():\n",
        "    country_names.append(label.upper())\n",
        "\n",
        "cars[\"COUNTRY\"] = country_names\n",
        "\n",
        "print(cars)\n"
      ],
      "metadata": {
        "colab": {
          "base_uri": "https://localhost:8080/"
        },
        "id": "zQkXajVJivsu",
        "outputId": "5db0d380-8b04-49ae-908b-721002919822"
      },
      "execution_count": 37,
      "outputs": [
        {
          "output_type": "stream",
          "name": "stdout",
          "text": [
            "            cars_per_cap        country  drives_right COUNTRY\n",
            "country_ab                                                   \n",
            "US                   809  United States          True      US\n",
            "AUS                  731      Australia         False     AUS\n",
            "JAP                  588          Japan         False     JAP\n",
            "IN                    18          India         False      IN\n",
            "RU                   200         Russia          True      RU\n",
            "MOR                   70        Morocco          True     MOR\n",
            "EG                    45          Egypt          True      EG\n"
          ]
        }
      ]
    },
    {
      "cell_type": "markdown",
      "source": [
        "pratique 185"
      ],
      "metadata": {
        "id": "wRcuv4zei9SU"
      }
    },
    {
      "cell_type": "code",
      "source": [
        "import pandas as pd\n",
        "cars = pd.read_csv('https://drive.usercontent.google.com/download?id=1kp1WzC5JojaWuj_HuSWni61Upsa1N9bo&export=download&authuser=1', index_col=0)\n",
        "\n",
        "cars['country'] = cars['country'].apply(str.upper)\n",
        "\n",
        "print(cars)"
      ],
      "metadata": {
        "colab": {
          "base_uri": "https://localhost:8080/"
        },
        "id": "PgQANoL4jABQ",
        "outputId": "31296fe9-dca0-4f08-99c6-ca58774c62ad"
      },
      "execution_count": 39,
      "outputs": [
        {
          "output_type": "stream",
          "name": "stdout",
          "text": [
            "            cars_per_cap        country  drives_right\n",
            "country_ab                                           \n",
            "US                   809  UNITED STATES          True\n",
            "AUS                  731      AUSTRALIA         False\n",
            "JAP                  588          JAPAN         False\n",
            "IN                    18          INDIA         False\n",
            "RU                   200         RUSSIA          True\n",
            "MOR                   70        MOROCCO          True\n",
            "EG                    45          EGYPT          True\n"
          ]
        }
      ]
    },
    {
      "cell_type": "code",
      "source": [
        "import numpy as np\n",
        "np.random.rand()"
      ],
      "metadata": {
        "colab": {
          "base_uri": "https://localhost:8080/"
        },
        "id": "luKy3RC0jtA_",
        "outputId": "def7bc5a-45ac-48a8-e172-edafc6c0c66e"
      },
      "execution_count": 40,
      "outputs": [
        {
          "output_type": "execute_result",
          "data": {
            "text/plain": [
              "0.6899391990076632"
            ]
          },
          "metadata": {},
          "execution_count": 40
        }
      ]
    },
    {
      "cell_type": "code",
      "source": [
        "np.random.seed(123)\n",
        "np.random.rand()"
      ],
      "metadata": {
        "colab": {
          "base_uri": "https://localhost:8080/"
        },
        "id": "ktl5Q-Smj2O7",
        "outputId": "f821a906-ba14-4298-fca7-cfe7c50a464a"
      },
      "execution_count": 41,
      "outputs": [
        {
          "output_type": "execute_result",
          "data": {
            "text/plain": [
              "0.6964691855978616"
            ]
          },
          "metadata": {},
          "execution_count": 41
        }
      ]
    },
    {
      "cell_type": "code",
      "source": [
        "np.random.rand()"
      ],
      "metadata": {
        "colab": {
          "base_uri": "https://localhost:8080/"
        },
        "id": "IFyJ0l5Bj-ma",
        "outputId": "36b9b7d8-7358-4159-bca8-895bd9968d9d"
      },
      "execution_count": 42,
      "outputs": [
        {
          "output_type": "execute_result",
          "data": {
            "text/plain": [
              "0.28613933495037946"
            ]
          },
          "metadata": {},
          "execution_count": 42
        }
      ]
    },
    {
      "cell_type": "code",
      "source": [
        "import numpy as np\n",
        "np.random.seed(123)\n",
        "coin = np.random.randint(0,2)\n",
        "print(coin)"
      ],
      "metadata": {
        "colab": {
          "base_uri": "https://localhost:8080/"
        },
        "id": "66Bb7k-7kCyY",
        "outputId": "bc4b4fcd-094f-4229-cbff-6dd9e4293cdf"
      },
      "execution_count": 43,
      "outputs": [
        {
          "output_type": "stream",
          "name": "stdout",
          "text": [
            "0\n"
          ]
        }
      ]
    },
    {
      "cell_type": "code",
      "source": [
        "import numpy as np\n",
        "np.random.seed(123)\n",
        "coin = np.random.randint(0,2)\n",
        "print(coin)\n",
        "if coin == 0:\n",
        "  print('heads')\n",
        "else:\n",
        "  print('tails')"
      ],
      "metadata": {
        "colab": {
          "base_uri": "https://localhost:8080/"
        },
        "id": "lLuKD1oikRaX",
        "outputId": "71fadff3-8246-4ab0-9e6c-fd407e7d40c4"
      },
      "execution_count": 44,
      "outputs": [
        {
          "output_type": "stream",
          "name": "stdout",
          "text": [
            "0\n",
            "heads\n"
          ]
        }
      ]
    },
    {
      "cell_type": "code",
      "source": [
        "def soma(n1, n2):\n",
        "  print('soma: ', n1+n2)\n",
        "soma(4,5)"
      ],
      "metadata": {
        "colab": {
          "base_uri": "https://localhost:8080/"
        },
        "id": "BSaD8kxikioC",
        "outputId": "71af08fa-ffab-4e75-cb32-e290438adaab"
      },
      "execution_count": 45,
      "outputs": [
        {
          "output_type": "stream",
          "name": "stdout",
          "text": [
            "soma:  9\n"
          ]
        }
      ]
    },
    {
      "cell_type": "code",
      "source": [
        "def soma(n1, n2):\n",
        "  return n1+n2\n",
        "print('soma: ', soma(4,5))"
      ],
      "metadata": {
        "colab": {
          "base_uri": "https://localhost:8080/"
        },
        "id": "Y4qLsyehkxNC",
        "outputId": "6e2c7001-394f-4e75-ea12-546b021da431"
      },
      "execution_count": 48,
      "outputs": [
        {
          "output_type": "stream",
          "name": "stdout",
          "text": [
            "soma:  9\n"
          ]
        }
      ]
    },
    {
      "cell_type": "code",
      "source": [
        "def is_par(n):\n",
        "  if n % 2 == 0:\n",
        "    return True\n",
        "  else:\n",
        "    return False\n",
        "print(is_par(4))"
      ],
      "metadata": {
        "colab": {
          "base_uri": "https://localhost:8080/"
        },
        "id": "b0K9PbGkk9U9",
        "outputId": "db293df9-a7bb-439d-b51f-e02d15ed6146"
      },
      "execution_count": 49,
      "outputs": [
        {
          "output_type": "stream",
          "name": "stdout",
          "text": [
            "True\n"
          ]
        }
      ]
    },
    {
      "cell_type": "markdown",
      "source": [
        "pratique 203"
      ],
      "metadata": {
        "id": "yWrR3LwLllC6"
      }
    },
    {
      "cell_type": "code",
      "source": [
        "def soma(a, b):\n",
        "    return a + b\n",
        "\n",
        "def subtracao(a, b):\n",
        "    return a - b\n",
        "\n",
        "def multiplicacao(a, b):\n",
        "    return a * b\n",
        "\n",
        "def divisao(a, b):\n",
        "    if b != 0:\n",
        "        return a / b\n",
        "    else:\n",
        "        return \"Erro: divisão por zero\"\n",
        "\n",
        "x = 10\n",
        "y = 2\n",
        "\n",
        "print(f\"Soma: {x} + {y} = {soma(x, y)}\")\n",
        "print(f\"Subtração: {x} - {y} = {subtracao(x, y)}\")\n",
        "print(f\"Multiplicação: {x} * {y} = {multiplicacao(x, y)}\")\n",
        "print(f\"Divisão: {x} / {y} = {divisao(x, y)}\")\n"
      ],
      "metadata": {
        "colab": {
          "base_uri": "https://localhost:8080/"
        },
        "id": "w-Lcz3FTle-R",
        "outputId": "ca33eddf-c6a9-4fae-e841-80077b797c8f"
      },
      "execution_count": 51,
      "outputs": [
        {
          "output_type": "stream",
          "name": "stdout",
          "text": [
            "Soma: 10 + 2 = 12\n",
            "Subtração: 10 - 2 = 8\n",
            "Multiplicação: 10 * 2 = 20\n",
            "Divisão: 10 / 2 = 5.0\n"
          ]
        }
      ]
    }
  ]
}