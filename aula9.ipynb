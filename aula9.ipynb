{
  "nbformat": 4,
  "nbformat_minor": 0,
  "metadata": {
    "colab": {
      "provenance": [],
      "authorship_tag": "ABX9TyMx8VV10DNQ4mUlXKSTOocR",
      "include_colab_link": true
    },
    "kernelspec": {
      "name": "python3",
      "display_name": "Python 3"
    },
    "language_info": {
      "name": "python"
    }
  },
  "cells": [
    {
      "cell_type": "markdown",
      "metadata": {
        "id": "view-in-github",
        "colab_type": "text"
      },
      "source": [
        "<a href=\"https://colab.research.google.com/github/alysonbz/lab_prog_si/blob/camila_araujo/aula9.ipynb\" target=\"_parent\"><img src=\"https://colab.research.google.com/assets/colab-badge.svg\" alt=\"Open In Colab\"/></a>"
      ]
    },
    {
      "cell_type": "markdown",
      "source": [
        "slide 73\n"
      ],
      "metadata": {
        "id": "S957TYtWRa2S"
      }
    },
    {
      "cell_type": "markdown",
      "source": [
        "**quest1** Qual linha de comando exibe a documentação da função len()"
      ],
      "metadata": {
        "id": "_XrpIydEFB3g"
      }
    },
    {
      "cell_type": "code",
      "execution_count": null,
      "metadata": {
        "colab": {
          "base_uri": "https://localhost:8080/"
        },
        "id": "h7ltMklQEw_a",
        "outputId": "466053ab-136e-4799-f523-57bc2600182f"
      },
      "outputs": [
        {
          "output_type": "stream",
          "name": "stdout",
          "text": [
            "Help on built-in function len in module builtins:\n",
            "\n",
            "len(obj, /)\n",
            "    Return the number of items in a container.\n",
            "\n"
          ]
        }
      ],
      "source": [
        "help(len)"
      ]
    },
    {
      "cell_type": "code",
      "source": [
        "doc(len)"
      ],
      "metadata": {
        "colab": {
          "base_uri": "https://localhost:8080/",
          "height": 141
        },
        "id": "gVSG7TQJdPqQ",
        "outputId": "70915678-7a75-4b16-f3f0-ff75e92a06d3"
      },
      "execution_count": null,
      "outputs": [
        {
          "output_type": "error",
          "ename": "NameError",
          "evalue": "name 'doc' is not defined",
          "traceback": [
            "\u001b[0;31m---------------------------------------------------------------------------\u001b[0m",
            "\u001b[0;31mNameError\u001b[0m                                 Traceback (most recent call last)",
            "\u001b[0;32m/tmp/ipython-input-2-3918049298.py\u001b[0m in \u001b[0;36m<cell line: 0>\u001b[0;34m()\u001b[0m\n\u001b[0;32m----> 1\u001b[0;31m \u001b[0mdoc\u001b[0m\u001b[0;34m(\u001b[0m\u001b[0mlen\u001b[0m\u001b[0;34m)\u001b[0m\u001b[0;34m\u001b[0m\u001b[0;34m\u001b[0m\u001b[0m\n\u001b[0m",
            "\u001b[0;31mNameError\u001b[0m: name 'doc' is not defined"
          ]
        }
      ]
    },
    {
      "cell_type": "code",
      "source": [
        "doc(len())"
      ],
      "metadata": {
        "colab": {
          "base_uri": "https://localhost:8080/",
          "height": 141
        },
        "id": "H3BliJIUdWWy",
        "outputId": "ff2b3c12-bee9-43c1-e1b6-51d878db0e52"
      },
      "execution_count": null,
      "outputs": [
        {
          "output_type": "error",
          "ename": "NameError",
          "evalue": "name 'doc' is not defined",
          "traceback": [
            "\u001b[0;31m---------------------------------------------------------------------------\u001b[0m",
            "\u001b[0;31mNameError\u001b[0m                                 Traceback (most recent call last)",
            "\u001b[0;32m/tmp/ipython-input-3-2600749199.py\u001b[0m in \u001b[0;36m<cell line: 0>\u001b[0;34m()\u001b[0m\n\u001b[0;32m----> 1\u001b[0;31m \u001b[0mdoc\u001b[0m\u001b[0;34m(\u001b[0m\u001b[0mlen\u001b[0m\u001b[0;34m(\u001b[0m\u001b[0;34m)\u001b[0m\u001b[0;34m)\u001b[0m\u001b[0;34m\u001b[0m\u001b[0;34m\u001b[0m\u001b[0m\n\u001b[0m",
            "\u001b[0;31mNameError\u001b[0m: name 'doc' is not defined"
          ]
        }
      ]
    },
    {
      "cell_type": "code",
      "source": [
        "find(len)"
      ],
      "metadata": {
        "colab": {
          "base_uri": "https://localhost:8080/",
          "height": 141
        },
        "id": "j2HxXQBrdccE",
        "outputId": "d6257226-f7cc-4a04-a9fc-6ebcefe5625e"
      },
      "execution_count": null,
      "outputs": [
        {
          "output_type": "error",
          "ename": "NameError",
          "evalue": "name 'find' is not defined",
          "traceback": [
            "\u001b[0;31m---------------------------------------------------------------------------\u001b[0m",
            "\u001b[0;31mNameError\u001b[0m                                 Traceback (most recent call last)",
            "\u001b[0;32m/tmp/ipython-input-4-3820611293.py\u001b[0m in \u001b[0;36m<cell line: 0>\u001b[0;34m()\u001b[0m\n\u001b[0;32m----> 1\u001b[0;31m \u001b[0mfind\u001b[0m\u001b[0;34m(\u001b[0m\u001b[0mlen\u001b[0m\u001b[0;34m)\u001b[0m\u001b[0;34m\u001b[0m\u001b[0;34m\u001b[0m\u001b[0m\n\u001b[0m",
            "\u001b[0;31mNameError\u001b[0m: name 'find' is not defined"
          ]
        }
      ]
    },
    {
      "cell_type": "markdown",
      "source": [
        "**quest2** Qual dos 3 códigos printa o número 8?\n"
      ],
      "metadata": {
        "id": "uFxMXuZ-FDnK"
      }
    },
    {
      "cell_type": "code",
      "source": [
        "import numpy as np\n",
        "z = np.array([[9, 9, 3],\n",
        "              [8, 5, 4]])\n",
        "print(z[1, 0])"
      ],
      "metadata": {
        "colab": {
          "base_uri": "https://localhost:8080/"
        },
        "id": "Cud7ZxWMd-oS",
        "outputId": "369bcada-11b3-4938-a8bf-8f320aadbb87"
      },
      "execution_count": null,
      "outputs": [
        {
          "output_type": "stream",
          "name": "stdout",
          "text": [
            "8\n"
          ]
        }
      ]
    },
    {
      "cell_type": "code",
      "source": [
        "import numpy as np\n",
        "z = np.array([[9, 9, 3],\n",
        "              [8, 5, 4]])\n",
        "print(z[0, 2])"
      ],
      "metadata": {
        "colab": {
          "base_uri": "https://localhost:8080/"
        },
        "id": "ccAn_ijye3Ow",
        "outputId": "5604db01-cc83-42bf-843a-c417fa4cc8af"
      },
      "execution_count": null,
      "outputs": [
        {
          "output_type": "stream",
          "name": "stdout",
          "text": [
            "3\n"
          ]
        }
      ]
    },
    {
      "cell_type": "code",
      "source": [
        "import numpy as np\n",
        "z = np.array([[9, 9, 3], [8, 5, 4]])\n",
        "print(z[0, 1])"
      ],
      "metadata": {
        "colab": {
          "base_uri": "https://localhost:8080/"
        },
        "id": "x8tYS5xxfCOK",
        "outputId": "6d6ab8ea-5e0a-42a9-c142-d41747898368"
      },
      "execution_count": null,
      "outputs": [
        {
          "output_type": "stream",
          "name": "stdout",
          "text": [
            "9\n"
          ]
        }
      ]
    },
    {
      "cell_type": "markdown",
      "source": [
        "**quest3** complete:\n",
        "foo = [0.2, 1.7, 'a', 'wed', '1.5']\n",
        "foo[0:2] = ?\n",
        "print(foo)"
      ],
      "metadata": {
        "id": "kXdG8EmXhfsT"
      }
    },
    {
      "cell_type": "code",
      "source": [
        "foo = [0.2, 1.7, 'a', 'wed', '1.5']\n",
        "foo[0:2] = [2.75, -1.5]\n",
        "print(foo)"
      ],
      "metadata": {
        "colab": {
          "base_uri": "https://localhost:8080/"
        },
        "id": "7mdq2R1uhejS",
        "outputId": "2c3f480c-ed43-4de9-f61a-c68561537a7b"
      },
      "execution_count": null,
      "outputs": [
        {
          "output_type": "stream",
          "name": "stdout",
          "text": [
            "[2.75, -1.5, 'a', 'wed', '1.5']\n"
          ]
        }
      ]
    },
    {
      "cell_type": "markdown",
      "source": [
        "**quest4** complete: 'datascience''.replace(?, 'camp')"
      ],
      "metadata": {
        "id": "o9DUrD7FjGHW"
      }
    },
    {
      "cell_type": "code",
      "source": [
        "'datascience'.replace('science', 'camp')"
      ],
      "metadata": {
        "colab": {
          "base_uri": "https://localhost:8080/",
          "height": 35
        },
        "id": "yDqOtcLrjTiU",
        "outputId": "20aec267-4b5e-4df5-805d-0a54dc3fbcab"
      },
      "execution_count": null,
      "outputs": [
        {
          "output_type": "execute_result",
          "data": {
            "text/plain": [
              "'datacamp'"
            ],
            "application/vnd.google.colaboratory.intrinsic+json": {
              "type": "string"
            }
          },
          "metadata": {},
          "execution_count": 19
        }
      ]
    },
    {
      "cell_type": "markdown",
      "source": [
        "**quest5** -  Qual linha de código apresenta erro ?"
      ],
      "metadata": {
        "id": "mSKXvvPyFGiD"
      }
    },
    {
      "cell_type": "code",
      "source": [
        "'python' * int('2')"
      ],
      "metadata": {
        "colab": {
          "base_uri": "https://localhost:8080/",
          "height": 35
        },
        "id": "8h6Pt9x-feSe",
        "outputId": "99990a3c-9456-4abd-d44b-a15b4de8ca98"
      },
      "execution_count": null,
      "outputs": [
        {
          "output_type": "execute_result",
          "data": {
            "text/plain": [
              "'pythonpython'"
            ],
            "application/vnd.google.colaboratory.intrinsic+json": {
              "type": "string"
            }
          },
          "metadata": {},
          "execution_count": 14
        }
      ]
    },
    {
      "cell_type": "code",
      "source": [
        "'python' * 2"
      ],
      "metadata": {
        "colab": {
          "base_uri": "https://localhost:8080/",
          "height": 35
        },
        "id": "8z1zPo6Zfnkt",
        "outputId": "417cdb80-7b5e-49c2-e212-f36fb09ac7d6"
      },
      "execution_count": null,
      "outputs": [
        {
          "output_type": "execute_result",
          "data": {
            "text/plain": [
              "'pythonpython'"
            ],
            "application/vnd.google.colaboratory.intrinsic+json": {
              "type": "string"
            }
          },
          "metadata": {},
          "execution_count": 15
        }
      ]
    },
    {
      "cell_type": "code",
      "source": [
        "'python' * '2'"
      ],
      "metadata": {
        "colab": {
          "base_uri": "https://localhost:8080/",
          "height": 141
        },
        "id": "ERH11xJrgXBh",
        "outputId": "fb54c6d7-996f-40df-b439-72d76c4e9e15"
      },
      "execution_count": null,
      "outputs": [
        {
          "output_type": "error",
          "ename": "TypeError",
          "evalue": "can't multiply sequence by non-int of type 'str'",
          "traceback": [
            "\u001b[0;31m---------------------------------------------------------------------------\u001b[0m",
            "\u001b[0;31mTypeError\u001b[0m                                 Traceback (most recent call last)",
            "\u001b[0;32m/tmp/ipython-input-17-3861569871.py\u001b[0m in \u001b[0;36m<cell line: 0>\u001b[0;34m()\u001b[0m\n\u001b[0;32m----> 1\u001b[0;31m \u001b[0;34m'python'\u001b[0m \u001b[0;34m*\u001b[0m \u001b[0;34m'2'\u001b[0m\u001b[0;34m\u001b[0m\u001b[0;34m\u001b[0m\u001b[0m\n\u001b[0m",
            "\u001b[0;31mTypeError\u001b[0m: can't multiply sequence by non-int of type 'str'"
          ]
        }
      ]
    },
    {
      "cell_type": "code",
      "source": [
        "'python * 2'"
      ],
      "metadata": {
        "colab": {
          "base_uri": "https://localhost:8080/",
          "height": 35
        },
        "id": "ksbB-0zEgatP",
        "outputId": "56a95f89-9a52-465c-8c2b-80dc6a9293cf"
      },
      "execution_count": null,
      "outputs": [
        {
          "output_type": "execute_result",
          "data": {
            "text/plain": [
              "'python * 2'"
            ],
            "application/vnd.google.colaboratory.intrinsic+json": {
              "type": "string"
            }
          },
          "metadata": {},
          "execution_count": 16
        }
      ]
    },
    {
      "cell_type": "markdown",
      "source": [
        "**quest6** Qual código retorna o texto:\n",
        " python data\n"
      ],
      "metadata": {
        "id": "IvyaebJKFUJO"
      }
    },
    {
      "cell_type": "code",
      "source": [
        "x = 'python '\n",
        "print(x + 'data')"
      ],
      "metadata": {
        "id": "FzfNjlThE5qo",
        "colab": {
          "base_uri": "https://localhost:8080/"
        },
        "outputId": "e56893f7-930f-4235-a92b-a38f94824a83"
      },
      "execution_count": null,
      "outputs": [
        {
          "output_type": "stream",
          "name": "stdout",
          "text": [
            "python data\n"
          ]
        }
      ]
    },
    {
      "cell_type": "code",
      "source": [
        "x = 'r '\n",
        "print(x + 'data')"
      ],
      "metadata": {
        "colab": {
          "base_uri": "https://localhost:8080/"
        },
        "id": "Fnv6tjaakZK3",
        "outputId": "02c08e7f-cf94-4086-9238-a37f8085a733"
      },
      "execution_count": null,
      "outputs": [
        {
          "output_type": "stream",
          "name": "stdout",
          "text": [
            "r data\n"
          ]
        }
      ]
    },
    {
      "cell_type": "code",
      "source": [
        "x = 'sql '\n",
        "print(x + 'data')"
      ],
      "metadata": {
        "colab": {
          "base_uri": "https://localhost:8080/"
        },
        "id": "47hTaShpkcSV",
        "outputId": "86a5e2b0-24e7-47fa-cf8d-0ddac134ef29"
      },
      "execution_count": null,
      "outputs": [
        {
          "output_type": "stream",
          "name": "stdout",
          "text": [
            "sql data\n"
          ]
        }
      ]
    },
    {
      "cell_type": "markdown",
      "source": [
        "**quest7** Considerando esse código:\n",
        "np_2d = np,array([[1.5, 6.4, 7.8, 2.2],\n",
        "                 [4.3, 8.7, 1.9, 3.4],\n",
        "                [5.3, 7.3, 9.4, 2.5]])\n",
        "\n",
        "\n",
        "\n",
        ":Qual opção ao lado representa o comando:\n",
        "np_2d[2:,2:]\n"
      ],
      "metadata": {
        "id": "k8jh_o6Olf83"
      }
    },
    {
      "cell_type": "code",
      "source": [
        "import numpy as np\n",
        "np_2d = np.array([[1.5, 6.4, 7.8, 2.2],[4.3, 8.7, 1.9, 3.4], [5.3, 7.3, 9.4, 2.5]])\n",
        "np_2d[2:,2:]"
      ],
      "metadata": {
        "colab": {
          "base_uri": "https://localhost:8080/"
        },
        "id": "NYWOa918mvtI",
        "outputId": "064941ed-f9ae-4fef-a852-2d6e1db350e4"
      },
      "execution_count": 28,
      "outputs": [
        {
          "output_type": "execute_result",
          "data": {
            "text/plain": [
              "array([[9.4, 2.5]])"
            ]
          },
          "metadata": {},
          "execution_count": 28
        }
      ]
    },
    {
      "cell_type": "markdown",
      "source": [
        "**quest8** Complete o código para a saída 6666"
      ],
      "metadata": {
        "id": "lmTLX2mtnK_m"
      }
    },
    {
      "cell_type": "code",
      "source": [
        "print('6' * (2**2))"
      ],
      "metadata": {
        "colab": {
          "base_uri": "https://localhost:8080/"
        },
        "id": "pwochAr9nU_O",
        "outputId": "86d5d936-5ba8-4fbe-848f-88851be40dbe"
      },
      "execution_count": 29,
      "outputs": [
        {
          "output_type": "stream",
          "name": "stdout",
          "text": [
            "6666\n"
          ]
        }
      ]
    },
    {
      "cell_type": "markdown",
      "source": [
        "**quest9** Qual a saida do codigo ao lado?"
      ],
      "metadata": {
        "id": "XAqWwyAPnl21"
      }
    },
    {
      "cell_type": "code",
      "source": [
        "import numpy as np\n",
        "m = np.array([2, 6, 4])\n",
        "n = np.array([2, 1, 1])\n",
        "print(m * n)"
      ],
      "metadata": {
        "colab": {
          "base_uri": "https://localhost:8080/"
        },
        "id": "OEqQLHBUnsag",
        "outputId": "8711c9a9-77f1-4155-d634-5bef9694493b"
      },
      "execution_count": 30,
      "outputs": [
        {
          "output_type": "stream",
          "name": "stdout",
          "text": [
            "[4 6 4]\n"
          ]
        }
      ]
    }
  ]
}