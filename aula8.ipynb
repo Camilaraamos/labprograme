{
  "nbformat": 4,
  "nbformat_minor": 0,
  "metadata": {
    "colab": {
      "provenance": [],
      "authorship_tag": "ABX9TyOO2BOEYiEdzsF2TXdGgtA3",
      "include_colab_link": true
    },
    "kernelspec": {
      "name": "python3",
      "display_name": "Python 3"
    },
    "language_info": {
      "name": "python"
    }
  },
  "cells": [
    {
      "cell_type": "markdown",
      "metadata": {
        "id": "view-in-github",
        "colab_type": "text"
      },
      "source": [
        "<a href=\"https://colab.research.google.com/github/alysonbz/lab_prog_si/blob/camila_araujo/aula8.ipynb\" target=\"_parent\"><img src=\"https://colab.research.google.com/assets/colab-badge.svg\" alt=\"Open In Colab\"/></a>"
      ]
    },
    {
      "cell_type": "markdown",
      "source": [
        "Pagina 68"
      ],
      "metadata": {
        "id": "q1l4qM9EXn39"
      }
    },
    {
      "cell_type": "code",
      "execution_count": null,
      "metadata": {
        "id": "nSLX3K10N8q8",
        "colab": {
          "base_uri": "https://localhost:8080/"
        },
        "outputId": "3564515d-3784-423d-f16b-e1803f811f36"
      },
      "outputs": [
        {
          "output_type": "stream",
          "name": "stdout",
          "text": [
            "[12.37593129 17.92884018 14.45936673 14.00266051]\n",
            "[ 71 108  94  75 123 126  59]\n",
            "[1.58 1.9  1.97 2.02 1.77 1.81 2.07 1.54]\n"
          ]
        }
      ],
      "source": [
        "import random as rd\n",
        "import numpy as np\n",
        "\n",
        "height = range(150,210)\n",
        "\n",
        "weight = range(50,149)\n",
        "\n",
        "height = rd.sample(height,20)\n",
        "\n",
        "weight = rd.sample(weight,20)\n",
        "\n",
        "height_array = np.array(height) * 0.01\n",
        "\n",
        "weight_array = np.array(weight)\n",
        "\n",
        "bmi = weight_array / height_array **2\n",
        "\n",
        "light = bmi[bmi < 21]\n",
        "\n",
        "print(light)\n",
        "\n",
        "print(weight_array[8:15])\n",
        "\n",
        "print(height_array[11:19])"
      ]
    },
    {
      "cell_type": "markdown",
      "source": [
        "Pagina 72"
      ],
      "metadata": {
        "id": "SIzrNTwRXroI"
      }
    },
    {
      "cell_type": "code",
      "source": [
        "baseball = [[180, 78.4],\n",
        "           [215, 102.7],\n",
        "           [210, 98.5],\n",
        "           [188, 75.3]]\n",
        "\n",
        "import numpy as np\n",
        "\n",
        "np_baseball = np.array(baseball)\n",
        "\n",
        "print(np_baseball[2, :])\n",
        "\n",
        "np_weight_lb = np_baseball[: , 1]\n",
        "\n",
        "print(np_baseball[1,0])\n",
        "\n",
        "np.median(np_baseball[:, 0])\n",
        "\n"
      ],
      "metadata": {
        "colab": {
          "base_uri": "https://localhost:8080/"
        },
        "id": "NpFyRKcdXmNg",
        "outputId": "61530d22-eed4-48fb-a0b4-0b4fea145cb4"
      },
      "execution_count": null,
      "outputs": [
        {
          "output_type": "stream",
          "name": "stdout",
          "text": [
            "[210.   98.5]\n",
            "215.0\n"
          ]
        },
        {
          "output_type": "execute_result",
          "data": {
            "text/plain": [
              "np.float64(199.0)"
            ]
          },
          "metadata": {},
          "execution_count": 5
        }
      ]
    }
  ]
}