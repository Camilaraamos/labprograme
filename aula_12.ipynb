{
  "nbformat": 4,
  "nbformat_minor": 0,
  "metadata": {
    "colab": {
      "provenance": [],
      "authorship_tag": "ABX9TyO9dBVzgPv6XfdIAIIvTtxi",
      "include_colab_link": true
    },
    "kernelspec": {
      "name": "python3",
      "display_name": "Python 3"
    },
    "language_info": {
      "name": "python"
    }
  },
  "cells": [
    {
      "cell_type": "markdown",
      "metadata": {
        "id": "view-in-github",
        "colab_type": "text"
      },
      "source": [
        "<a href=\"https://colab.research.google.com/github/alysonbz/lab_prog_si/blob/camila_araujo/aula_12.ipynb\" target=\"_parent\"><img src=\"https://colab.research.google.com/assets/colab-badge.svg\" alt=\"Open In Colab\"/></a>"
      ]
    },
    {
      "cell_type": "code",
      "execution_count": 2,
      "metadata": {
        "colab": {
          "base_uri": "https://localhost:8080/"
        },
        "id": "g0n3uMihnhNH",
        "outputId": "71732f24-9a02-48d5-b62b-c1cc017258ee"
      },
      "outputs": [
        {
          "output_type": "stream",
          "name": "stdout",
          "text": [
            "1\n",
            "2.77\n"
          ]
        }
      ],
      "source": [
        "pop = [30.55, 2.77, 39.21]\n",
        "\n",
        "countries = ['afeghanistan', 'albania', 'algeria']\n",
        "\n",
        "world = {'Afeghanistan': 30.55, 'albania': 2.77, 'algeria': 39.21}\n",
        "\n",
        "ind_alb = countries.index('albania')\n",
        "print(ind_alb)\n",
        "\n",
        "a = pop[ind_alb]\n",
        "print(a)"
      ]
    },
    {
      "cell_type": "code",
      "source": [
        "print(world['albania'])"
      ],
      "metadata": {
        "colab": {
          "base_uri": "https://localhost:8080/"
        },
        "id": "CAUvVWcbn1f0",
        "outputId": "a89ce649-3b60-48c7-9c10-52cd61890074"
      },
      "execution_count": 3,
      "outputs": [
        {
          "output_type": "stream",
          "name": "stdout",
          "text": [
            "2.77\n"
          ]
        }
      ]
    },
    {
      "cell_type": "code",
      "source": [
        "print(world)"
      ],
      "metadata": {
        "colab": {
          "base_uri": "https://localhost:8080/"
        },
        "id": "M4LMVW9Kn72g",
        "outputId": "5b3a317b-4aa7-473d-d426-e2835d1b4292"
      },
      "execution_count": 4,
      "outputs": [
        {
          "output_type": "stream",
          "name": "stdout",
          "text": [
            "{'Afeghanistan': 30.55, 'albania': 2.77, 'algeria': 39.21}\n"
          ]
        }
      ]
    },
    {
      "cell_type": "code",
      "source": [
        "world['sealand'] = 0.000027\n",
        "print('sealand' in world)"
      ],
      "metadata": {
        "colab": {
          "base_uri": "https://localhost:8080/"
        },
        "id": "sV63GYLln-ck",
        "outputId": "83b307e1-ea5a-4d16-f2fc-9c1a7adaa930"
      },
      "execution_count": 5,
      "outputs": [
        {
          "output_type": "stream",
          "name": "stdout",
          "text": [
            "True\n"
          ]
        }
      ]
    },
    {
      "cell_type": "code",
      "source": [
        "del(world['sealand'])\n",
        "print(world)"
      ],
      "metadata": {
        "colab": {
          "base_uri": "https://localhost:8080/"
        },
        "id": "5KqC10fcoBOr",
        "outputId": "9d7af188-ba88-447c-b6c7-d7d8bd286a8c"
      },
      "execution_count": 6,
      "outputs": [
        {
          "output_type": "stream",
          "name": "stdout",
          "text": [
            "{'Afeghanistan': 30.55, 'albania': 2.77, 'algeria': 39.21}\n"
          ]
        }
      ]
    },
    {
      "cell_type": "markdown",
      "source": [
        "pratique 105"
      ],
      "metadata": {
        "id": "rDTVBcgXoeyx"
      }
    },
    {
      "cell_type": "code",
      "source": [
        "countries = ['spain', 'france', 'germany', 'norway']\n",
        "capitals = ['madrid', 'paris', 'berlin', 'oslo']\n",
        "\n",
        "europe = {'spain': 'madrid', 'france': 'paris', 'germany': 'berlin', 'norway': 'oslo'}\n",
        "print(europe)"
      ],
      "metadata": {
        "colab": {
          "base_uri": "https://localhost:8080/"
        },
        "id": "B_WVpK47oEBY",
        "outputId": "b77f2d7f-1d9d-4ff3-bf1a-aefc9e1a071c"
      },
      "execution_count": 7,
      "outputs": [
        {
          "output_type": "stream",
          "name": "stdout",
          "text": [
            "{'spain': 'madrid', 'france': 'paris', 'germany': 'berlin', 'norway': 'oslo'}\n"
          ]
        }
      ]
    },
    {
      "cell_type": "markdown",
      "source": [
        "pratique 106"
      ],
      "metadata": {
        "id": "U5wWvPp0oY8_"
      }
    },
    {
      "cell_type": "code",
      "source": [
        "print(europe.keys())\n",
        "print(europe['norway'])"
      ],
      "metadata": {
        "id": "m5JmZQFqoIY_"
      },
      "execution_count": null,
      "outputs": []
    },
    {
      "cell_type": "markdown",
      "source": [
        "pratique 111"
      ],
      "metadata": {
        "id": "_ek5-y83oVAr"
      }
    },
    {
      "cell_type": "code",
      "source": [
        "europe = {'spain': 'madrid',\n",
        "          'france': 'paris',\n",
        "          'germany': 'berlin',\n",
        "          'norway': 'oslo'}\n",
        "\n",
        "italy = {'italy': 'rome'}\n",
        "poland = {'poland': 'warsaw'}\n",
        "\n",
        "europe['italy'] = 'rome'\n",
        "europe['poland'] = 'warsaw'\n",
        "print('italy' in europe)\n",
        "print('poland' in europe)\n",
        "print(europe)"
      ],
      "metadata": {
        "colab": {
          "base_uri": "https://localhost:8080/"
        },
        "id": "k-I0Rto7oKuU",
        "outputId": "67e72657-4f1c-402d-f129-d6bac1780dfe"
      },
      "execution_count": 8,
      "outputs": [
        {
          "output_type": "stream",
          "name": "stdout",
          "text": [
            "True\n",
            "True\n",
            "{'spain': 'madrid', 'france': 'paris', 'germany': 'berlin', 'norway': 'oslo', 'italy': 'rome', 'poland': 'warsaw'}\n"
          ]
        }
      ]
    },
    {
      "cell_type": "markdown",
      "source": [
        "pratique 112"
      ],
      "metadata": {
        "id": "sQ3MKd9qpckx"
      }
    },
    {
      "cell_type": "code",
      "source": [
        "europe = {'spain': 'madrid',\n",
        "          'france': 'paris',\n",
        "          'germany': 'berlin',\n",
        "          'norway': 'oslo',\n",
        "          'italy': 'rome',\n",
        "          'poland': 'warsaw',\n",
        "          'australia': 'sydney'}\n",
        "\n",
        "\n",
        "europe['germany'] = 'berlim'\n",
        "\n",
        "if 'australia' in europe:\n",
        "    del europe['australia']\n",
        "\n",
        "print(europe)\n"
      ],
      "metadata": {
        "colab": {
          "base_uri": "https://localhost:8080/"
        },
        "id": "zMJyJ6Xno2jW",
        "outputId": "7dd4ce11-7c2e-470a-9261-642c4daeb850"
      },
      "execution_count": 10,
      "outputs": [
        {
          "output_type": "stream",
          "name": "stdout",
          "text": [
            "{'spain': 'madrid', 'france': 'paris', 'germany': 'berlim', 'norway': 'oslo', 'italy': 'rome', 'poland': 'warsaw'}\n"
          ]
        }
      ]
    },
    {
      "cell_type": "markdown",
      "source": [
        "pratique 113"
      ],
      "metadata": {
        "id": "WxaDGJMkqdsj"
      }
    },
    {
      "cell_type": "code",
      "source": [
        "europe = {\n",
        "    'spain':   {'capital': 'madrid', 'population': 46.77},\n",
        "    'france':  {'capital': 'paris',  'population': 66.03},\n",
        "    'germany': {'capital': 'berlin', 'population': 80.62},\n",
        "    'norway':  {'capital': 'oslo',   'population': 5.084}\n",
        "}\n",
        "\n",
        "print(europe['france']['capital'])  # Saída: paris\n",
        "\n",
        "data = {\n",
        "    'capital': 'rome',\n",
        "    'population': 59.83\n",
        "}\n",
        "\n",
        "europe['Italy'] = data\n",
        "\n",
        "print(europe)\n"
      ],
      "metadata": {
        "colab": {
          "base_uri": "https://localhost:8080/"
        },
        "id": "EwEIJ1Mtqfk0",
        "outputId": "5b3faa01-9a2c-4ee7-a51f-a78afa315358"
      },
      "execution_count": 11,
      "outputs": [
        {
          "output_type": "stream",
          "name": "stdout",
          "text": [
            "paris\n",
            "{'spain': {'capital': 'madrid', 'population': 46.77}, 'france': {'capital': 'paris', 'population': 66.03}, 'germany': {'capital': 'berlin', 'population': 80.62}, 'norway': {'capital': 'oslo', 'population': 5.084}, 'Italy': {'capital': 'rome', 'population': 59.83}}\n"
          ]
        }
      ]
    }
  ]
}